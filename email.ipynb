{
 "cells": [
  {
   "cell_type": "code",
   "execution_count": 1,
   "id": "403f5ae2",
   "metadata": {},
   "outputs": [
    {
     "data": {
      "text/plain": [
       "True"
      ]
     },
     "execution_count": 1,
     "metadata": {},
     "output_type": "execute_result"
    }
   ],
   "source": [
    "from langchain_groq import ChatGroq\n",
    "from dotenv import load_dotenv\n",
    "import chromadb\n",
    "import os\n",
    "\n",
    "load_dotenv()"
   ]
  },
  {
   "cell_type": "code",
   "execution_count": 2,
   "id": "180c2322",
   "metadata": {},
   "outputs": [],
   "source": [
    "llm = ChatGroq(\n",
    "    model_name=\"llama-3.3-70b-versatile\",\n",
    "    temperature=1,\n",
    "    groq_api_key=os.getenv(\"GROQ_API_KEY\")  \n",
    ")"
   ]
  },
  {
   "cell_type": "code",
   "execution_count": 3,
   "id": "4aa5024a",
   "metadata": {},
   "outputs": [
    {
     "name": "stderr",
     "output_type": "stream",
     "text": [
      "USER_AGENT environment variable not set, consider setting it to identify your requests.\n"
     ]
    },
    {
     "name": "stdout",
     "output_type": "stream",
     "text": [
      "Senior AI/ML Engineer\n",
      "Skip to main content\n",
      "Open Virtual Assistant\n",
      "Home\n",
      "Career Areas\n",
      "Total Rewards\n",
      "Life@Nike\n",
      "Purpose\n",
      "Language\n",
      "Select a Language\n",
      "Deutsch\n",
      "English\n",
      "Español (España)\n",
      "Español (América Latina)\n",
      "Français\n",
      "Italiano\n",
      "Nederlands\n",
      "Polski\n",
      "Tiếng Việt\n",
      "Türkçe\n",
      "简体中文\n",
      "繁體中文\n",
      "עִברִית\n",
      "한국어\n",
      "日本語\n",
      "Careers\n",
      "Close Menu\n",
      "Careers\n",
      "Chat\n",
      "Home\n",
      "Career Areas\n",
      "Total Rewards\n",
      "Life@Nike\n",
      "Purpose\n",
      "Jordan Careers\n",
      "Converse Careers\n",
      "Language\n",
      "Menu\n",
      "Return to Previous Menu\n",
      "Select a Language\n",
      "Deutsch\n",
      "English\n",
      "Español (España)\n",
      "Español (América Latina)\n",
      "Français\n",
      "Italiano\n",
      "Nederlands\n",
      "Polski\n",
      "Tiếng Việt\n",
      "Türkçe\n",
      "简体中文\n",
      "繁體中文\n",
      "עִברִית\n",
      "한국어\n",
      "日本語\n",
      "Back to Search\n",
      "Senior AI/ML Engineer\n",
      "Categories ID\n",
      "Categories URL\n",
      "Position Type\n",
      "Full Time\n",
      "Date Posted\n",
      "Primary Quest ID\n",
      "Second Quest ID\n",
      "Job Classification\n",
      "Career area\n",
      "Software Engineering\n",
      "Location\n",
      "Remote\n",
      "Job ID\n",
      "R-66196\n",
      "Apply Now\n",
      "Share Job\n",
      "Share Job Posting\n",
      "Facebook\n",
      "Opens In A New Tab\n",
      "LinkedIn\n",
      "Link Opens In New Window\n",
      "Email\n",
      "Close-Medium (Default Size)-icon\n",
      "Close Menu\n",
      "Become a Part of the NIKE, Inc. Team\n",
      "NIKE, Inc. does more than outfit the world’s best athletes. It is a place to explore\n",
      "potential, obliterate boundaries\n",
      "and push out the edges of what can be. The company looks for people who can grow, think,\n",
      "dream and create. Its\n",
      "culture thrives by embracing diversity and rewarding imagination. The brand seeks achievers,\n",
      "leaders and\n",
      "visionaries. At NIKE, Inc. it’s about each person bringing skills and passion to a\n",
      "challenging and constantly\n",
      "evolving game.\n",
      "Open to remote work except in South Dakota, Vermont and West Virginia.The annual base salary for this position ranges from $107,700.00 in our lowest geographic market to $212,600.00 in our highest geographic market. Actual salary will vary based on a candidate's location, qualifications, skills and experience.Information about benefits can be found here.WHO WE ARE LOOKING FORWe seek passionate engineers to join our team. As a Senior AI/ML Engineer, you will influence and develop robust machine learning and generative AI solutions that have a direct impact on the business. You should have experience in Python; a strong background in algorithms and data structures; hands-on AWS experience; as well as experience in database technology (e.g. Postgres, Redis) and data processing technology (e.g. Sagemaker or DataBricks). You should also have a demonstrable history of team leadership and value delivery, and be comfortable working in an agile product model.WHAT YOU WILL WORK ONIf this is you, you’ll be working with the Corporate Functions Artificial Intelligence team at Nike focused on delivering AI capabilities for Nike’s corporate functions. With teammates globally distributed, you’ll be joining a global organization working to solve machine learning problems at scale. You’ll be designing and implementing scalable applications that leverage prediction models and optimization programs to deliver data driven decisions that result in immense business impact. You’ll also contribute to core advanced analytics, machine learning, and generative AI platforms and tools to enable both prediction and optimization model development. You thrive when surrounded by talented colleagues and aim to never stop learning. We are looking for candidates who enjoy a collaborative and academic environment where we develop and share new skills, mentor, and contribute knowledge and software back to the analytics and engineering communities both within Nike and at-large.WHO YOU WILL WORK WITHYou will work closely with business stakeholders, product owners, and your peers within the engineering team to ensure the successful delivery of solutions. Additionally, you will work with other technology teams that lead the up and down-streams solutions to coordinate dependencies. WHAT YOU BRINGTo make it clear, we're not looking for just anyone. We're looking for someone special, someone who had these experiences and clearly demonstrated these skills:Bachelor’s degree in Computer Science, or related field. Will accept any suitable combination of education, experience and training5 to 7 years of professional experience in software engineering Candidates local to Beaverton, Oregon, are highly preferred.3+ years of experience in the field of Machine Learning Engineering or related fieldsExpertise in MLOps and an ability to articulate the role of MLOps in machine learning development life cycle from experimentation to production and measurementProficiency working in a team and mentoring others to write robust, maintainable, and extendable code in Python; containerized in Docker, and automated with CI/CDFamiliarity with frameworks such as Scikit-learn, PyTorch, Tensorflow, Spark, FastAPI or similar platforms and frameworksExpertise with cloud architecture and technologies, especially Amazon Web Services: ECR, SageMaker, Lambda, API GatewayFamiliarity with pipeline orchestration tools such as AirFlow or Databricks Workflows.Expertise with data structures, data modeling and software architectureExperience with complex data sets, ETL pipelines, SQL, and general data engineeringExpertise with Spark, Kubernetes, Docker, Jenkins, Databricks, or Terraform is highly desirableStrong analytical mindset and experience leading others in problem solvingExpertise with agile development and test-driven developmentEffective communication skills with team members, stakeholders, the business, and in codeExperience influencing technical strategy through all aspects of technical design and implementationProficiency providing technical leadership within a team and mentorship to othersWe offer a number of accommodations to complete our interview process including screen readers, sign language interpreters, accessible and single location for in-person interviews, closed captioning, and other reasonable modifications as needed. If you discover, as you navigate our application process, that you need assistance or an accommodation due to a disability, please complete the Candidate Accommodation Request Form.\n",
      "NIKE, Inc. is a growth company that looks for team members to grow with it. Nike offers a\n",
      "generous total rewards\n",
      "package, casual work environment, a diverse and inclusive culture, and an electric\n",
      "atmosphere for professional\n",
      "development. No matter the location, or the role, every Nike employee shares one galvanizing\n",
      "mission: To bring\n",
      "inspiration and innovation to every athlete* in the world.\n",
      "NIKE, Inc. is an equal opportunity employer. Qualified applicants will receive\n",
      "consideration without\n",
      "regard to race, color, religion, sex, national origin, age, sexual orientation, gender\n",
      "identity, gender expression,\n",
      "veteran status, or disability.\n",
      "Apply Now\n",
      "Share Job\n",
      "Share Job Posting\n",
      "Faceboox\n",
      "Opens In A New Tab\n",
      "LinkedIn\n",
      "Link Opens In New Window\n",
      "Email\n",
      "Close-Medium (Default Size)-icon\n",
      "Close Menu\n",
      "What You Can Expect\n",
      "OUR HIRING GAME PLAN\n",
      "01 Apply\n",
      "Our teams are made up of diverse skillsets, knowledge bases, inputs, ideas and backgrounds.\n",
      "We want you to find your fit – review job descriptions, departments and teams to discover\n",
      "the role for you.\n",
      "02 Meet a Recruiter or Take an Assessment\n",
      "If selected for a corporate role, a recruiter will reach out to start your interview process\n",
      "and be your main contact\n",
      "throughout the process. For retail roles, you’ll complete an interactive assessment that\n",
      "includes a chat and quizzes and\n",
      "takes about 10-20 minutes to complete.  No matter the role, we want to learn about you – the\n",
      "whole you – so don’t shy\n",
      "away from how you approach world-class service and what makes you unique.\n",
      "03 Interview\n",
      "Go into this stage confident by doing your research, understanding what we are looking for\n",
      "and being prepared for\n",
      "questions that are set up to learn more about you, and your background.\n",
      "Home\n",
      "About Us\n",
      "Contact\n",
      "Talent Community\n",
      "Terms\n",
      "Nike Applicant Privacy Policy\n",
      "We offer a number of accommodations to complete our interview process including screen readers, sign language interpreters,\n",
      "accessible and single location for in-person interviews, closed captioning, and other reasonable modifications as\n",
      "needed.\n",
      "If you discover, as you navigate our application process, that you need assistance or an accommodation due to a\n",
      "disability, please contact us at +1 503-671-4156 and include your full name, best way to reach you, and the\n",
      "accommodation you request to assist with the application process.\n",
      "For more information, please refer to Equal Employment\n",
      "Opportunity is The Law.\n",
      "©  Nike, Inc. All Rights Reserved\n",
      "Careers\n",
      "Chat\n",
      "Chat with our AI Assistant\n"
     ]
    }
   ],
   "source": [
    "from langchain_community.document_loaders import WebBaseLoader\n",
    "\n",
    "loader = WebBaseLoader(\"https://careers.nike.com/senior-ai-ml-engineer/job/R-66196\")\n",
    "page_data = loader.load().pop().page_content\n",
    "\n",
    "page_data = \"\\n\".join(\n",
    "    line.strip() for line in page_data.splitlines() if line.strip()\n",
    ")\n",
    "\n",
    "print(page_data)"
   ]
  },
  {
   "cell_type": "code",
   "execution_count": 4,
   "id": "80d48f3f",
   "metadata": {},
   "outputs": [],
   "source": [
    "from langchain.prompts import PromptTemplate\n",
    "\n",
    "prompt_extract = PromptTemplate(\n",
    "    input_variables=[\"page_data\"],\n",
    "    template=\"\"\"\n",
    "### Scraped Text from Web url\n",
    "{page_data}\n",
    "\n",
    "# Instruction\n",
    "The scraped text is from the career's page of a website.\n",
    "Your job is to extract the job postings and return them in JSON format containing the \n",
    "following keys: `role`, `experience`, `skills in detail`, and `description`. \n",
    "Only return the valid JSON.\n",
    "\n",
    "### VALID JSON (NO PREAMBLE):\n",
    "\"\"\"\n",
    ")"
   ]
  },
  {
   "cell_type": "code",
   "execution_count": 14,
   "id": "cff24011",
   "metadata": {},
   "outputs": [
    {
     "name": "stdout",
     "output_type": "stream",
     "text": [
      "```json\n",
      "{\n",
      "  \"role\": \"Senior AI/ML Engineer\",\n",
      "  \"experience\": \"5 to 7 years of professional experience in software engineering, 3+ years of experience in the field of Machine Learning Engineering or related fields\",\n",
      "  \"skills in detail\": {\n",
      "    \"programming languages\": \"Python\",\n",
      "    \"frameworks\": \"Scikit-learn, PyTorch, Tensorflow, Spark, FastAPI\",\n",
      "    \"technologies\": \"AWS, Docker, Jenkins, Databricks, Terraform\",\n",
      "    \"data structures\": \"Expertise with data structures, data modeling and software architecture\",\n",
      "    \"databases\": \"Postgres, Redis\",\n",
      "    \"operating systems\": \"None specified\"\n",
      "  },\n",
      "  \"description\": \"We seek passionate engineers to join our team. As a Senior AI/ML Engineer, you will influence and develop robust machine learning and generative AI solutions that have a direct impact on the business. You should have experience in Python; a strong background in algorithms and data structures; hands-on AWS experience; as well as experience in database technology and data processing technology.\"\n",
      "}\n",
      "```\n"
     ]
    }
   ],
   "source": [
    "chain_extract = prompt_extract | llm \n",
    "res = chain_extract.invoke(input={'page_data':page_data})\n",
    "print(res.content)"
   ]
  },
  {
   "cell_type": "code",
   "execution_count": 15,
   "id": "9a16fc75",
   "metadata": {},
   "outputs": [
    {
     "name": "stdout",
     "output_type": "stream",
     "text": [
      "type: <class 'str'>)\n"
     ]
    }
   ],
   "source": [
    "print(f\"type: {type(res.content)})\")"
   ]
  },
  {
   "cell_type": "code",
   "execution_count": 17,
   "id": "84aa989c",
   "metadata": {},
   "outputs": [
    {
     "data": {
      "text/plain": [
       "{'role': 'Senior AI/ML Engineer',\n",
       " 'experience': '5 to 7 years of professional experience in software engineering, 3+ years of experience in the field of Machine Learning Engineering or related fields',\n",
       " 'skills in detail': {'programming languages': 'Python',\n",
       "  'frameworks': 'Scikit-learn, PyTorch, Tensorflow, Spark, FastAPI',\n",
       "  'technologies': 'AWS, Docker, Jenkins, Databricks, Terraform',\n",
       "  'data structures': 'Expertise with data structures, data modeling and software architecture',\n",
       "  'databases': 'Postgres, Redis',\n",
       "  'operating systems': 'None specified'},\n",
       " 'description': 'We seek passionate engineers to join our team. As a Senior AI/ML Engineer, you will influence and develop robust machine learning and generative AI solutions that have a direct impact on the business. You should have experience in Python; a strong background in algorithms and data structures; hands-on AWS experience; as well as experience in database technology and data processing technology.'}"
      ]
     },
     "execution_count": 17,
     "metadata": {},
     "output_type": "execute_result"
    }
   ],
   "source": [
    "from langchain_core.output_parsers import JsonOutputParser\n",
    "\n",
    "json_parser = JsonOutputParser()\n",
    "json_res = json_parser.parse(res.content)\n",
    "json_res"
   ]
  },
  {
   "cell_type": "code",
   "execution_count": 18,
   "id": "4a96c19d",
   "metadata": {},
   "outputs": [
    {
     "name": "stdout",
     "output_type": "stream",
     "text": [
      "type: <class 'dict'>)\n"
     ]
    }
   ],
   "source": [
    "print(f\"type: {type(json_res)})\")"
   ]
  },
  {
   "cell_type": "code",
   "execution_count": null,
   "id": "a2248330",
   "metadata": {},
   "outputs": [],
   "source": [
    "with open(\"my_resume.txt\", \"r\", encoding=\"utf-8\") as f:\n",
    "    resume_text = f.read()\n",
    "\n",
    "resume_to_json_prompt = PromptTemplate(\n",
    "    input_variables=[\"resume_text\"],\n",
    "    template=\"\"\"\n",
    "You are an assistant that converts resumes into structured JSON.\n",
    "Each section or subheading in the resume should become a key.\n",
    "The content under each heading should become the value.\n",
    "Preserve all important details.\n",
    "\n",
    "Resume Text:\n",
    "{resume_text}\n",
    "\n",
    "Return only valid JSON without any extra text.\n",
    "\"\"\"\n",
    ")"
   ]
  },
  {
   "cell_type": "code",
   "execution_count": null,
   "id": "d3806c51",
   "metadata": {},
   "outputs": [
    {
     "data": {
      "text/plain": [
       "{'Name': 'Rohit Karthick',\n",
       " 'Location': 'Chennai, Tamil Nadu, India',\n",
       " 'Contact': {'Phone': '+91-9566887888',\n",
       "  'Email': 'rkbeo5@gmail.com',\n",
       "  'LinkedIn': '',\n",
       "  'GitHub': ''},\n",
       " 'Technical Skills': {'Languages': ['Python', 'SQL'],\n",
       "  'ML/DL': ['TensorFlow', 'Keras', 'Scikit-learn', 'OpenCV', 'Transformers'],\n",
       "  'Web/API': ['FastAPI', 'Flask', 'Streamlit'],\n",
       "  'DevOps': ['Docker', 'AWS EC2', 'Firebase', 'Git'],\n",
       "  'LLM Tools': ['LangChain', 'LoRA fine-tuning']},\n",
       " 'Professional Experience': [{'Company': 'NeubAItics Pvt. Tech. Ltd.',\n",
       "   'Location': 'Chennai, India',\n",
       "   'Roles': [{'Title': 'Machine Learning Intern',\n",
       "     'Duration': 'Jan 2025 to Jun 2025',\n",
       "     'Achievements': ['Assisted in building a real-time person tracking system using DeepSORT and InsightFace across zones and multiple CCTV cameras.',\n",
       "      'Built and dockerized a real-time face attendance system with spoof detection using OpenCV and FastAPI; integrated Firebase for secure image storage and timestamped logs.',\n",
       "      'Improved the Naibu mobile app’s tooth shade detection model by 10% through fine-tuning and data preprocessing.']},\n",
       "    {'Title': 'Machine Learning Engineer',\n",
       "     'Duration': 'Jul 2025 – Present',\n",
       "     'Achievements': ['Developing an LLM-based system for summarizing NGO reports, including charts and tables, based on TNEB reports.']}]}],\n",
       " 'Portfolio Projects': [{'Name': 'LoRA Fine-Tuning Project',\n",
       "   'Description': 'Built and deployed a LoRA fine-tuned LLM for domain-specific text understanding.'},\n",
       "  {'Name': 'n8n Automation',\n",
       "   'Description': 'Automated workflows connecting emails to Google Calendar events.'},\n",
       "  {'Name': 'Text-to-SQL Agent',\n",
       "   'Description': 'Converts natural language queries into SQL to interact with databases.'},\n",
       "  {'Name': 'Cold Email Generator',\n",
       "   'Description': 'End-to-end system using LLMs to generate automated job outreach emails.'},\n",
       "  {'Name': 'IPL Insights Bot',\n",
       "   'Description': 'Built an interactive bot using LangChain, Streamlit, and LLaMA-based models to answer user queries from article URLs. Processed articles with UnstructuredURLLoader, created embeddings with sentence-transformers, and used FAISS for efficient retrieval.'},\n",
       "  {'Name': 'Fake Reviews Classifier',\n",
       "   'Description': 'Flask-based web app for fake review detection using CountVectorizer + TF-IDF + classifier. Deployed on AWS EC2 with Gunicorn and Nginx.'},\n",
       "  {'Name': 'Transformers vs NLTK Sentiment Analysis',\n",
       "   'Description': 'Comparative study of sentiment classification performance using traditional NLP pipelines and transformer-based models.'}],\n",
       " 'Academic Research': [{'Title': 'Heart Sound Anomaly Detection using Conv1D and LSTM',\n",
       "   'Journal': 'SN Computer Science Journal',\n",
       "   'Status': 'under review',\n",
       "   'Date': 'Jan 2025',\n",
       "   'Description': 'Developed a hybrid CNN-LSTM model using TensorFlow and Keras to classify heart sounds into five categories with 95.7% accuracy. Used Librosa for MFCC feature extraction to capture temporal and spectral sound patterns.'}],\n",
       " 'Certifications': [{'Name': 'Machine Learning Specialization',\n",
       "   'Issuing Organization': 'Deeplearning.ai & Stanford',\n",
       "   'Date': '2025'},\n",
       "  {'Name': 'IBM Data Science Professional Certificate', 'Date': '2025'},\n",
       "  {'Name': 'Oracle – Database Foundations', 'Date': '2023'}],\n",
       " 'Education': {'University': 'SRM Institute of Science and Technology',\n",
       "  'Location': 'Kattankulathur, India',\n",
       "  'Degree': 'B.Tech, Computer Science Engineering',\n",
       "  'Duration': '2020–2024',\n",
       "  'GPA': '8.21 / 10',\n",
       "  'Relevant Coursework': ['DBMS',\n",
       "   'DSA',\n",
       "   'Data Analytics',\n",
       "   'AI',\n",
       "   'Cloud Computing',\n",
       "   'OS']},\n",
       " 'Standardized Tests': {'GRE': {'Score': '314 / 340',\n",
       "   'Breakdown': {'Quantitative': '162', 'Verbal': '152'}},\n",
       "  'IELTS': {'Score': '7.5 / 9'}}}"
      ]
     },
     "execution_count": 39,
     "metadata": {},
     "output_type": "execute_result"
    }
   ],
   "source": [
    "full_prompt = resume_to_json_prompt.format(resume_text=resume_text)\n",
    "\n",
    "res = llm.invoke(full_prompt)  \n",
    "\n",
    "json_parser = JsonOutputParser()\n",
    "resume_json = json_parser.parse(res.content)\n",
    "\n",
    "resume_json"
   ]
  }
 ],
 "metadata": {
  "kernelspec": {
   "display_name": ".venv",
   "language": "python",
   "name": "python3"
  },
  "language_info": {
   "codemirror_mode": {
    "name": "ipython",
    "version": 3
   },
   "file_extension": ".py",
   "mimetype": "text/x-python",
   "name": "python",
   "nbconvert_exporter": "python",
   "pygments_lexer": "ipython3",
   "version": "3.10.0"
  }
 },
 "nbformat": 4,
 "nbformat_minor": 5
}
