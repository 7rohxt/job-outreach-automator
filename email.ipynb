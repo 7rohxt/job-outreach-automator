{
 "cells": [
  {
   "cell_type": "markdown",
   "id": "ccaed8a4",
   "metadata": {},
   "source": [
    "# Import Libraries"
   ]
  },
  {
   "cell_type": "code",
   "execution_count": 34,
   "id": "403f5ae2",
   "metadata": {},
   "outputs": [
    {
     "data": {
      "text/plain": [
       "True"
      ]
     },
     "execution_count": 34,
     "metadata": {},
     "output_type": "execute_result"
    }
   ],
   "source": [
    "from langchain_groq import ChatGroq\n",
    "from dotenv import load_dotenv\n",
    "import chromadb\n",
    "import os\n",
    "\n",
    "load_dotenv()"
   ]
  },
  {
   "cell_type": "markdown",
   "id": "168fd4ae",
   "metadata": {},
   "source": [
    "_____"
   ]
  },
  {
   "cell_type": "markdown",
   "id": "9add1214",
   "metadata": {},
   "source": [
    "# Setup LLM"
   ]
  },
  {
   "cell_type": "code",
   "execution_count": 35,
   "id": "180c2322",
   "metadata": {},
   "outputs": [],
   "source": [
    "llm = ChatGroq(\n",
    "    model_name=\"llama-3.3-70b-versatile\",\n",
    "    temperature=1,\n",
    "    groq_api_key=os.getenv(\"GROQ_API_KEY\")  \n",
    ")"
   ]
  },
  {
   "cell_type": "markdown",
   "id": "c6e2f650",
   "metadata": {},
   "source": [
    "_________________"
   ]
  },
  {
   "cell_type": "markdown",
   "id": "509e9aba",
   "metadata": {},
   "source": [
    "# Job Description in JSON"
   ]
  },
  {
   "cell_type": "code",
   "execution_count": 36,
   "id": "4aa5024a",
   "metadata": {},
   "outputs": [
    {
     "name": "stdout",
     "output_type": "stream",
     "text": [
      "Senior AI/ML Engineer\n",
      "Skip to main content\n",
      "Open Virtual Assistant\n",
      "Home\n",
      "Career Areas\n",
      "Total Rewards\n",
      "Life@Nike\n",
      "Purpose\n",
      "Language\n",
      "Select a Language\n",
      "Deutsch\n",
      "English\n",
      "Español (España)\n",
      "Español (América Latina)\n",
      "Français\n",
      "Italiano\n",
      "Nederlands\n",
      "Polski\n",
      "Tiếng Việt\n",
      "Türkçe\n",
      "简体中文\n",
      "繁體中文\n",
      "עִברִית\n",
      "한국어\n",
      "日本語\n",
      "Careers\n",
      "Close Menu\n",
      "Careers\n",
      "Chat\n",
      "Home\n",
      "Career Areas\n",
      "Total Rewards\n",
      "Life@Nike\n",
      "Purpose\n",
      "Jordan Careers\n",
      "Converse Careers\n",
      "Language\n",
      "Menu\n",
      "Return to Previous Menu\n",
      "Select a Language\n",
      "Deutsch\n",
      "English\n",
      "Español (España)\n",
      "Español (América Latina)\n",
      "Français\n",
      "Italiano\n",
      "Nederlands\n",
      "Polski\n",
      "Tiếng Việt\n",
      "Türkçe\n",
      "简体中文\n",
      "繁體中文\n",
      "עִברִית\n",
      "한국어\n",
      "日本語\n",
      "Back to Search\n",
      "Senior AI/ML Engineer\n",
      "Categories ID\n",
      "Categories URL\n",
      "Position Type\n",
      "Full Time\n",
      "Date Posted\n",
      "Primary Quest ID\n",
      "Second Quest ID\n",
      "Job Classification\n",
      "Career area\n",
      "Software Engineering\n",
      "Location\n",
      "Remote\n",
      "Job ID\n",
      "R-66196\n",
      "Apply Now\n",
      "Share Job\n",
      "Share Job Posting\n",
      "Facebook\n",
      "Opens In A New Tab\n",
      "LinkedIn\n",
      "Link Opens In New Window\n",
      "Email\n",
      "Close-Medium (Default Size)-icon\n",
      "Close Menu\n",
      "Become a Part of the NIKE, Inc. Team\n",
      "NIKE, Inc. does more than outfit the world’s best athletes. It is a place to explore\n",
      "potential, obliterate boundaries\n",
      "and push out the edges of what can be. The company looks for people who can grow, think,\n",
      "dream and create. Its\n",
      "culture thrives by embracing diversity and rewarding imagination. The brand seeks achievers,\n",
      "leaders and\n",
      "visionaries. At NIKE, Inc. it’s about each person bringing skills and passion to a\n",
      "challenging and constantly\n",
      "evolving game.\n",
      "Open to remote work except in South Dakota, Vermont and West Virginia.The annual base salary for this position ranges from $107,700.00 in our lowest geographic market to $212,600.00 in our highest geographic market. Actual salary will vary based on a candidate's location, qualifications, skills and experience.Information about benefits can be found here.WHO WE ARE LOOKING FORWe seek passionate engineers to join our team. As a Senior AI/ML Engineer, you will influence and develop robust machine learning and generative AI solutions that have a direct impact on the business. You should have experience in Python; a strong background in algorithms and data structures; hands-on AWS experience; as well as experience in database technology (e.g. Postgres, Redis) and data processing technology (e.g. Sagemaker or DataBricks). You should also have a demonstrable history of team leadership and value delivery, and be comfortable working in an agile product model.WHAT YOU WILL WORK ONIf this is you, you’ll be working with the Corporate Functions Artificial Intelligence team at Nike focused on delivering AI capabilities for Nike’s corporate functions. With teammates globally distributed, you’ll be joining a global organization working to solve machine learning problems at scale. You’ll be designing and implementing scalable applications that leverage prediction models and optimization programs to deliver data driven decisions that result in immense business impact. You’ll also contribute to core advanced analytics, machine learning, and generative AI platforms and tools to enable both prediction and optimization model development. You thrive when surrounded by talented colleagues and aim to never stop learning. We are looking for candidates who enjoy a collaborative and academic environment where we develop and share new skills, mentor, and contribute knowledge and software back to the analytics and engineering communities both within Nike and at-large.WHO YOU WILL WORK WITHYou will work closely with business stakeholders, product owners, and your peers within the engineering team to ensure the successful delivery of solutions. Additionally, you will work with other technology teams that lead the up and down-streams solutions to coordinate dependencies. WHAT YOU BRINGTo make it clear, we're not looking for just anyone. We're looking for someone special, someone who had these experiences and clearly demonstrated these skills:Bachelor’s degree in Computer Science, or related field. Will accept any suitable combination of education, experience and training5 to 7 years of professional experience in software engineering Candidates local to Beaverton, Oregon, are highly preferred.3+ years of experience in the field of Machine Learning Engineering or related fieldsExpertise in MLOps and an ability to articulate the role of MLOps in machine learning development life cycle from experimentation to production and measurementProficiency working in a team and mentoring others to write robust, maintainable, and extendable code in Python; containerized in Docker, and automated with CI/CDFamiliarity with frameworks such as Scikit-learn, PyTorch, Tensorflow, Spark, FastAPI or similar platforms and frameworksExpertise with cloud architecture and technologies, especially Amazon Web Services: ECR, SageMaker, Lambda, API GatewayFamiliarity with pipeline orchestration tools such as AirFlow or Databricks Workflows.Expertise with data structures, data modeling and software architectureExperience with complex data sets, ETL pipelines, SQL, and general data engineeringExpertise with Spark, Kubernetes, Docker, Jenkins, Databricks, or Terraform is highly desirableStrong analytical mindset and experience leading others in problem solvingExpertise with agile development and test-driven developmentEffective communication skills with team members, stakeholders, the business, and in codeExperience influencing technical strategy through all aspects of technical design and implementationProficiency providing technical leadership within a team and mentorship to othersWe offer a number of accommodations to complete our interview process including screen readers, sign language interpreters, accessible and single location for in-person interviews, closed captioning, and other reasonable modifications as needed. If you discover, as you navigate our application process, that you need assistance or an accommodation due to a disability, please complete the Candidate Accommodation Request Form.\n",
      "NIKE, Inc. is a growth company that looks for team members to grow with it. Nike offers a\n",
      "generous total rewards\n",
      "package, casual work environment, a diverse and inclusive culture, and an electric\n",
      "atmosphere for professional\n",
      "development. No matter the location, or the role, every Nike employee shares one galvanizing\n",
      "mission: To bring\n",
      "inspiration and innovation to every athlete* in the world.\n",
      "NIKE, Inc. is an equal opportunity employer. Qualified applicants will receive\n",
      "consideration without\n",
      "regard to race, color, religion, sex, national origin, age, sexual orientation, gender\n",
      "identity, gender expression,\n",
      "veteran status, or disability.\n",
      "Apply Now\n",
      "Share Job\n",
      "Share Job Posting\n",
      "Faceboox\n",
      "Opens In A New Tab\n",
      "LinkedIn\n",
      "Link Opens In New Window\n",
      "Email\n",
      "Close-Medium (Default Size)-icon\n",
      "Close Menu\n",
      "What You Can Expect\n",
      "OUR HIRING GAME PLAN\n",
      "01 Apply\n",
      "Our teams are made up of diverse skillsets, knowledge bases, inputs, ideas and backgrounds.\n",
      "We want you to find your fit – review job descriptions, departments and teams to discover\n",
      "the role for you.\n",
      "02 Meet a Recruiter or Take an Assessment\n",
      "If selected for a corporate role, a recruiter will reach out to start your interview process\n",
      "and be your main contact\n",
      "throughout the process. For retail roles, you’ll complete an interactive assessment that\n",
      "includes a chat and quizzes and\n",
      "takes about 10-20 minutes to complete.  No matter the role, we want to learn about you – the\n",
      "whole you – so don’t shy\n",
      "away from how you approach world-class service and what makes you unique.\n",
      "03 Interview\n",
      "Go into this stage confident by doing your research, understanding what we are looking for\n",
      "and being prepared for\n",
      "questions that are set up to learn more about you, and your background.\n",
      "Home\n",
      "About Us\n",
      "Contact\n",
      "Talent Community\n",
      "Terms\n",
      "Nike Applicant Privacy Policy\n",
      "We offer a number of accommodations to complete our interview process including screen readers, sign language interpreters,\n",
      "accessible and single location for in-person interviews, closed captioning, and other reasonable modifications as\n",
      "needed.\n",
      "If you discover, as you navigate our application process, that you need assistance or an accommodation due to a\n",
      "disability, please contact us at +1 503-671-4156 and include your full name, best way to reach you, and the\n",
      "accommodation you request to assist with the application process.\n",
      "For more information, please refer to Equal Employment\n",
      "Opportunity is The Law.\n",
      "©  Nike, Inc. All Rights Reserved\n",
      "Careers\n",
      "Chat\n",
      "Chat with our AI Assistant\n"
     ]
    }
   ],
   "source": [
    "from langchain_community.document_loaders import WebBaseLoader\n",
    "\n",
    "loader = WebBaseLoader(\"https://careers.nike.com/senior-ai-ml-engineer/job/R-66196\")\n",
    "page_data = loader.load().pop().page_content\n",
    "\n",
    "page_data = \"\\n\".join(\n",
    "    line.strip() for line in page_data.splitlines() if line.strip()\n",
    ")\n",
    "\n",
    "print(page_data)"
   ]
  },
  {
   "cell_type": "code",
   "execution_count": 37,
   "id": "80d48f3f",
   "metadata": {},
   "outputs": [],
   "source": [
    "from langchain.prompts import PromptTemplate\n",
    "\n",
    "prompt_extract = PromptTemplate(\n",
    "    input_variables=[\"page_data\"],\n",
    "    template=\"\"\"\n",
    "### Scraped Text from Web url\n",
    "{page_data}\n",
    "\n",
    "# Instruction\n",
    "The scraped text is from the career's page of a website.\n",
    "Your job is to extract the job postings and return them in JSON format containing the \n",
    "following keys: `role`, `experience`, `skills in detail`, and `description`. \n",
    "Only return the valid JSON.\n",
    "\n",
    "### VALID JSON (NO PREAMBLE):\n",
    "\"\"\"\n",
    ")"
   ]
  },
  {
   "cell_type": "code",
   "execution_count": 38,
   "id": "cff24011",
   "metadata": {},
   "outputs": [
    {
     "name": "stdout",
     "output_type": "stream",
     "text": [
      "type: <class 'str'>)\n"
     ]
    }
   ],
   "source": [
    "chain_extract = prompt_extract | llm \n",
    "job_description = chain_extract.invoke(input={'page_data':page_data})\n",
    "print(f\"type: {type(job_description.content)})\")"
   ]
  },
  {
   "cell_type": "code",
   "execution_count": 39,
   "id": "84aa989c",
   "metadata": {},
   "outputs": [
    {
     "name": "stdout",
     "output_type": "stream",
     "text": [
      "{'description': 'We seek passionate engineers to join our team. As a Senior '\n",
      "                'AI/ML Engineer, you will influence and develop robust machine '\n",
      "                'learning and generative AI solutions that have a direct '\n",
      "                'impact on the business. You will be working with the '\n",
      "                'Corporate Functions Artificial Intelligence team at Nike '\n",
      "                'focused on delivering AI capabilities for Nike’s corporate '\n",
      "                'functions.',\n",
      " 'experience': '5 to 7 years of professional experience in software '\n",
      "               'engineering',\n",
      " 'role': 'Senior AI/ML Engineer',\n",
      " 'skills in detail': ['Python',\n",
      "                      'algorithms and data structures',\n",
      "                      'AWS experience',\n",
      "                      'database technology (e.g. Postgres, Redis)',\n",
      "                      'data processing technology (e.g. Sagemaker or '\n",
      "                      'DataBricks)',\n",
      "                      'MLOps',\n",
      "                      'Scikit-learn',\n",
      "                      'PyTorch',\n",
      "                      'Tensorflow',\n",
      "                      'Spark',\n",
      "                      'FastAPI',\n",
      "                      'Cloud architecture and technologies, especially Amazon '\n",
      "                      'Web Services: ECR, SageMaker, Lambda, API Gateway',\n",
      "                      'Pipeline orchestration tools such as AirFlow or '\n",
      "                      'Databricks Workflows',\n",
      "                      'Data structures, data modeling and software '\n",
      "                      'architecture',\n",
      "                      'Complex data sets, ETL pipelines, SQL, and general data '\n",
      "                      'engineering',\n",
      "                      'Spark, Kubernetes, Docker, Jenkins, Databricks, or '\n",
      "                      'Terraform']}\n",
      "\n",
      "type: <class 'dict'>)\n"
     ]
    }
   ],
   "source": [
    "from langchain_core.output_parsers import JsonOutputParser\n",
    "from pprint import pprint\n",
    "\n",
    "json_parser = JsonOutputParser()\n",
    "job_description = json_parser.parse(job_description.content)\n",
    "pprint(job_description)\n",
    "print(f\"\\ntype: {type(job_description)})\")"
   ]
  },
  {
   "cell_type": "markdown",
   "id": "26b7abc8",
   "metadata": {},
   "source": [
    "___________________"
   ]
  },
  {
   "cell_type": "markdown",
   "id": "da0224cc",
   "metadata": {},
   "source": [
    "# Resume in Json"
   ]
  },
  {
   "cell_type": "code",
   "execution_count": 40,
   "id": "a2248330",
   "metadata": {},
   "outputs": [],
   "source": [
    "with open(\"my_resume.txt\", \"r\", encoding=\"utf-8\") as f:\n",
    "    resume = f.read()\n",
    "\n",
    "resume_to_json_prompt = PromptTemplate(\n",
    "    input_variables=[\"resume\"],\n",
    "    template=\"\"\"\n",
    "You are an assistant that converts resumes into structured JSON.\n",
    "Each section or subheading in the resume should become a key.\n",
    "The content under each heading should become the value.\n",
    "Preserve all important details.\n",
    "\n",
    "Resume Text:\n",
    "{resume}\n",
    "\n",
    "Return only valid JSON without any extra text.\n",
    "\"\"\"\n",
    ")"
   ]
  },
  {
   "cell_type": "code",
   "execution_count": 41,
   "id": "d3806c51",
   "metadata": {},
   "outputs": [
    {
     "data": {
      "text/plain": [
       "{'Contact': {'Name': 'Rohit Karthick', 'Location': 'Chennai, Tamil Nadu, India', 'Phone': '+91-9566887888', 'Email': 'rkbeo5@gmail.com', 'LinkedIn': 'https://www.linkedin.com/in/rohit-karthick/', 'Github': 'https://github.com/7rohxt'}, 'Technical Skills': {'Languages': ['Python', 'SQL'], 'ML/DL': ['TensorFlow', 'Keras', 'Scikit-learn', 'OpenCV', 'Transformers'], 'Web/API': ['FastAPI', 'Flask', 'Streamlit'], 'DevOps': ['Docker', 'AWS EC2', 'Firebase', 'Git'], 'LLM Tools': ['LangChain', 'LoRA fine-tuning']}, 'Professional Experience': [{'Company': 'NeubAItics Pvt. Tech. Ltd.', 'Location': 'Chennai, India', 'Roles': [{'Title': 'Machine Learning Intern', 'Duration': 'Jan 2025 to Jun 2025', 'Achievements': ['Assisted in building a real-time person tracking system using DeepSORT and InsightFace across zones and multiple CCTV cameras.', 'Built and dockerized a real-time face attendance system with spoof detection using OpenCV and FastAPI; integrated Firebase for secure image storage and timestamped logs.', 'Improved the Naibu mobile app’s tooth shade detection model by 10% through fine-tuning and data preprocessing.']}, {'Title': 'Machine Learning Engineer', 'Duration': 'Jul 2025 – Present', 'Achievements': ['Developing an LLM-based system for summarizing NGO reports, including charts and tables, based on TNEB reports.']}]}], 'Portfolio Projects': [{'Title': 'LoRA Fine-Tuning Project', 'Description': 'Built and deployed a LoRA fine-tuned LLM for domain-specific text understanding.'}, {'Title': 'n8n Automation', 'Description': 'Automated workflows connecting emails to Google Calendar events.'}, {'Title': 'Text-to-SQL Agent', 'Description': 'Converts natural language queries into SQL to interact with databases.'}, {'Title': 'Cold Email Generator', 'Description': 'End-to-end system using LLMs to generate automated job outreach emails.'}, {'Title': 'IPL Insights Bot', 'Description': 'Built an interactive bot using LangChain, Streamlit, and LLaMA-based models to answer user queries from article URLs. Processed articles with UnstructuredURLLoader, created embeddings with sentence-transformers, and used FAISS for efficient retrieval.'}, {'Title': 'Fake Reviews Classifier', 'Description': 'Flask-based web app for fake review detection using CountVectorizer + TF-IDF + classifier. Deployed on AWS EC2 with Gunicorn and Nginx.'}, {'Title': 'Transformers vs NLTK Sentiment Analysis', 'Description': 'Comparative study of sentiment classification performance using traditional NLP pipelines and transformer-based models.'}], 'Academic Research': [{'Title': 'Heart Sound Anomaly Detection using Conv1D and LSTM', 'Journal': 'SN Computer Science Journal', 'Status': 'under review', 'Date': 'Jan 2025', 'Description': 'Developed a hybrid CNN-LSTM model using TensorFlow and Keras to classify heart sounds into five categories with 95.7% accuracy. Used Librosa for MFCC feature extraction to capture temporal and spectral sound patterns.'}], 'Certifications': [{'Year': 2025, 'Title': 'Machine Learning Specialization', 'Issued By': 'Deeplearning.ai & Stanford'}, {'Year': 2025, 'Title': 'IBM Data Science Professional Certificate', 'Issued By': 'IBM'}, {'Year': 2023, 'Title': 'Database Foundations', 'Issued By': 'Oracle'}], 'Education': {'Institution': 'SRM Institute of Science and Technology', 'Location': 'Kattankulathur, India', 'Degree': 'B.Tech, Computer Science Engineering', 'Duration': '2020–2024', 'GPA': '8.21 / 10', 'Relevant Coursework': ['DBMS', 'DSA', 'Data Analytics', 'AI', 'Cloud Computing', 'OS']}, 'Standardized Tests': {'GRE': {'Score': '314 / 340', 'Breakdown': {'Quantitative': 162, 'Verbal': 152}}, 'IELTS': {'Score': '7.5 / 9'}}}"
      ]
     },
     "execution_count": 41,
     "metadata": {},
     "output_type": "execute_result"
    }
   ],
   "source": [
    "full_prompt = resume_to_json_prompt.format(resume=resume)\n",
    "\n",
    "res = llm.invoke(full_prompt)  \n",
    "\n",
    "json_parser = JsonOutputParser()\n",
    "resume = json_parser.parse(res.content)\n",
    "\n",
    "resume"
   ]
  },
  {
   "cell_type": "markdown",
   "id": "91c42c52",
   "metadata": {},
   "source": [
    "_________________"
   ]
  },
  {
   "cell_type": "markdown",
   "id": "e990de40",
   "metadata": {},
   "source": [
    "# Generate Email with Zeroshot"
   ]
  },
  {
   "cell_type": "code",
   "execution_count": 42,
   "id": "d55779fd",
   "metadata": {},
   "outputs": [
    {
     "name": "stdout",
     "output_type": "stream",
     "text": [
      "Subject: Application for Senior AI/ML Engineer Role at Nike\n",
      "\n",
      "Dear Hiring Manager,\n",
      "\n",
      "I'm excited to apply for the Senior AI/ML Engineer position at Nike, where I can leverage my skills in machine learning, cloud architecture, and data engineering to drive business impact. With a strong foundation in Python, algorithms, and data structures, I'm confident in my ability to develop robust AI solutions.\n",
      "\n",
      "My experience with TensorFlow, Scikit-learn, and PyTorch aligns with the job requirements, and I've demonstrated proficiency in these frameworks through projects like the LoRA Fine-Tuning Project and Heart Sound Anomaly Detection using Conv1D and LSTM. I've also worked with FastAPI, Docker, and AWS EC2, which are essential for cloud architecture and deployment.\n",
      "\n",
      "As a Machine Learning Engineer at NeubAItics Pvt. Tech. Ltd., I've developed real-time systems using OpenCV, FastAPI, and Docker, showcasing my ability to work with complex data sets and ETL pipelines. My project, Fake Reviews Classifier, deployed on AWS EC2, demonstrates my understanding of cloud architecture and technologies.\n",
      "\n",
      "Although I have less than 5 years of professional experience, my achievements and projects, such as the LoRA Fine-Tuning Project, IPL Insights Bot, and Text-to-SQL Agent, showcase my capabilities in MLOps, pipeline orchestration, and data engineering. I'm eager to bring my skills and enthusiasm to Nike's Corporate Functions Artificial Intelligence team and contribute to delivering AI capabilities for Nike's corporate functions.\n",
      "\n",
      "I'd love to discuss how my skills and experience align with the role and explore how I can make a meaningful impact at Nike. Please find my resume and portfolio attached. I look forward to the opportunity to contribute to Nike's innovative AI initiatives.\n",
      "\n",
      "Best regards,\n",
      "\n",
      "Rohit Karthick\n",
      "[Your Contact Information]\n"
     ]
    }
   ],
   "source": [
    "email_prompt = f\"\"\"\n",
    "You are the candidate described in the resume.\n",
    "Job description: {job_description}\n",
    "Candidate resume: {resume}\n",
    "\n",
    "Write a concise, professional cold email to the hiring manager that clearly explains why the candidate is a strong fit for this specific role. \n",
    "\n",
    "Instructions:\n",
    "- Highlight how the candidate's skills, frameworks, and technologies match the job requirements exactly.\n",
    "- Connect relevant projects or experience to each key requirement from the job description.\n",
    "- If the candidate does not meet the required years of experience, emphasize related projects and achievements.\n",
    "- Keep it short, persuasive, and directly aligned with the job posting.\n",
    "- Avoid generic statements; make it specific to the skills, frameworks, and technologies listed in the job description.\n",
    "\"\"\"\n",
    "\n",
    "email_response = llm.invoke(email_prompt)\n",
    "\n",
    "print(email_response.content)"
   ]
  },
  {
   "cell_type": "markdown",
   "id": "2c49c910",
   "metadata": {},
   "source": [
    "__________________"
   ]
  },
  {
   "cell_type": "markdown",
   "id": "3bc85ddc",
   "metadata": {},
   "source": [
    "# Vector Database"
   ]
  },
  {
   "cell_type": "code",
   "execution_count": 43,
   "id": "ee60883d",
   "metadata": {},
   "outputs": [],
   "source": [
    "from few_shots import few_shots\n",
    "\n",
    "from langchain_chroma import Chroma\n",
    "from langchain_huggingface import HuggingFaceEmbeddings"
   ]
  },
  {
   "cell_type": "code",
   "execution_count": 44,
   "id": "1e5b9293",
   "metadata": {},
   "outputs": [],
   "source": [
    "chroma_client = chromadb.PersistentClient(path=\"chroma_db\") \n",
    "\n",
    "embedding_function = HuggingFaceEmbeddings(model_name=\"sentence-transformers/all-MiniLM-L6-v2\")\n",
    "\n",
    "collection = chroma_client.get_or_create_collection(name=\"few_shots\")"
   ]
  },
  {
   "cell_type": "markdown",
   "id": "51b6731a",
   "metadata": {},
   "source": [
    "### Retrive one example with most similar Job description"
   ]
  },
  {
   "cell_type": "code",
   "execution_count": 45,
   "id": "6c3b9be6",
   "metadata": {},
   "outputs": [],
   "source": [
    "import json\n",
    "\n",
    "for i, example in enumerate(few_shots):\n",
    "    job_text = json.dumps(example[\"job_description\"], indent=2)\n",
    "    collection.add(\n",
    "        ids=[f\"example_{i}\"],\n",
    "        documents=[job_text],\n",
    "        metadatas=[{\"resume\": json.dumps(example[\"resume\"]), \"email\": example[\"email\"]}]\n",
    "    )"
   ]
  },
  {
   "cell_type": "code",
   "execution_count": 56,
   "id": "e77e1b21",
   "metadata": {},
   "outputs": [
    {
     "name": "stdout",
     "output_type": "stream",
     "text": [
      "Top match:\n",
      " {'ids': [['example_1']], 'embeddings': None, 'documents': [['{\\n  \"role\": \"AI/ML Engineer\",\\n  \"experience\": \"2-5 years of professional experience in software engineering\",\\n  \"skills in detail\": [\\n    \"Python\",\\n    \"Algorithms and data structures\",\\n    \"AWS experience\",\\n    \"Database technology (e.g. Postgres, Redis)\",\\n    \"Data processing technology (e.g. Sagemaker or DataBricks)\",\\n    \"MLOps\",\\n    \"Cloud architecture and technologies, especially Amazon Web Services: ECR, SageMaker, Lambda, API Gateway\",\\n    \"Frameworks such as Scikit-learn, PyTorch, Tensorflow, Spark, FastAPI\",\\n    \"Pipeline orchestration tools such as AirFlow or Databricks Workflows\",\\n    \"Spark, Kubernetes, Docker, Jenkins, Databricks, or Terraform\"\\n  ],\\n  \"description\": \"Influence and develop robust machine learning and generative AI solutions that have a direct impact on the business, designing and implementing scalable applications that leverage prediction models and optimization programs to deliver data driven decisions.\"\\n}']], 'uris': None, 'included': ['metadatas', 'documents', 'distances'], 'data': None, 'metadatas': [[{'resume': '{\"Contact Information\": {\"Name\": \"Rohit Karthick\", \"Location\": \"Chennai, Tamil Nadu, India\", \"Phone\": \"+91-9566887888\", \"Email\": \"rkbeo5@gmail.com\", \"LinkedIn\": \"https://www.linkedin.com/in/rohit-karthick/\", \"Github\": \"https://github.com/7rohxt\"}, \"Technical Skills\": {\"Languages\": [\"Python\", \"SQL\"], \"ML/DL\": [\"TensorFlow\", \"Keras\", \"Scikit-learn\", \"OpenCV\", \"Transformers\"], \"Web/API\": [\"FastAPI\", \"Flask\", \"Streamlit\"], \"DevOps\": [\"Docker\", \"AWS EC2\", \"Firebase\", \"Git\"], \"LLM Tools\": [\"LangChain\", \"LoRA fine-tuning\"]}, \"Professional Experience\": [{\"Company\": \"NeubAItics Pvt. Tech. Ltd.\", \"Location\": \"Chennai, India\", \"Roles\": [{\"Position\": \"Machine Learning Intern\", \"Duration\": \"Jan 2025 to Jun 2025\", \"Achievements\": [\"Assisted in building a real-time person tracking system using DeepSORT and InsightFace across zones and multiple CCTV cameras.\", \"Built and dockerized a real-time face attendance system with spoof detection using OpenCV and FastAPI; integrated Firebase for secure image storage and timestamped logs.\", \"Improved the Naibu mobile app\\\\u2019s tooth shade detection model by 10% through fine-tuning and data preprocessing.\"]}, {\"Position\": \"Machine Learning Engineer\", \"Duration\": \"Jul 2025 \\\\u2013 Present\", \"Achievements\": [\"Developing an LLM-based system for summarizing NGO reports, including charts and tables, based on TNEB reports.\"]}]}], \"Portfolio Projects\": [{\"Name\": \"LoRA Fine-Tuning Project\", \"Description\": \"Built and deployed a LoRA fine-tuned LLM for domain-specific text understanding.\"}, {\"Name\": \"n8n Automation\", \"Description\": \"Automated workflows connecting emails to Google Calendar events.\"}, {\"Name\": \"Text-to-SQL Agent\", \"Description\": \"Converts natural language queries into SQL to interact with databases.\"}, {\"Name\": \"Cold Email Generator\", \"Description\": \"End-to-end system using LLMs to generate automated job outreach emails.\"}, {\"Name\": \"IPL Insights Bot\", \"Description\": \"Built an interactive bot using LangChain, Streamlit, and LLaMA-based models to answer user queries from article URLs. Processed articles with UnstructuredURLLoader, created embeddings with sentence-transformers, and used FAISS for efficient retrieval.\"}, {\"Name\": \"Fake Reviews Classifier\", \"Description\": \"Flask-based web app for fake review detection using CountVectorizer + TF-IDF + classifier. Deployed on AWS EC2 with Gunicorn and Nginx.\"}, {\"Name\": \"Transformers vs NLTK Sentiment Analysis\", \"Description\": \"Comparative study of sentiment classification performance using traditional NLP pipelines and transformer-based models.\"}], \"Academic Research\": [{\"Name\": \"Heart Sound Anomaly Detection using Conv1D and LSTM\", \"Journal\": \"SN Computer Science Journal\", \"Status\": \"under review\", \"Date\": \"Jan 2025\", \"Description\": \"Developed a hybrid CNN-LSTM model using TensorFlow and Keras to classify heart sounds into five categories with 95.7% accuracy. Used Librosa for MFCC feature extraction to capture temporal and spectral sound patterns.\"}], \"Certifications\": [{\"Name\": \"Machine Learning Specialization\", \"Issuers\": [\"Deeplearning.ai\", \"Stanford\"], \"Date\": \"2025\"}, {\"Name\": \"IBM Data Science Professional Certificate\", \"Date\": \"2025\"}, {\"Name\": \"Oracle \\\\u2013 Database Foundations\", \"Date\": \"2023\"}], \"Education\": {\"Institution\": \"SRM Institute of Science and Technology\", \"Location\": \"Kattankulathur, India\", \"Degree\": \"B.Tech, Computer Science Engineering\", \"Duration\": \"2020\\\\u20132024\", \"GPA\": \"8.21 / 10\", \"Relevant Coursework\": [\"DBMS\", \"DSA\", \"Data Analytics\", \"AI\", \"Cloud Computing\", \"OS\"]}, \"Standardized Tests\": {\"GRE\": {\"Score\": \"314 / 340\", \"Breakdown\": {\"Quantitative\": \"162\", \"Verbal\": \"152\"}}, \"IELTS\": {\"Score\": \"7.5 / 9\"}}}', 'email': 'Subject: Application for AI/ML Engineer Role – Skilled in Python, AWS, and MLOps\\n\\nDear Hiring Manager,\\n\\nI am excited to apply for the AI/ML Engineer position. My expertise in Python, algorithms, and cloud deployment aligns well with your requirements. At NeubAItics, I built and dockerized a real-time face attendance system using FastAPI, OpenCV, and Firebase, and developed a multi-camera DeepSORT-based tracking system, showcasing strong skills in scalable ML applications.\\n\\nI have deployed solutions on AWS EC2, integrated Docker, and applied MLOps practices for production-ready pipelines. Projects such as my LoRA fine-tuned LLM deployment and Text-to-SQL agent further demonstrate experience with TensorFlow, Keras, Scikit-learn, and LangChain.\\n\\nAlthough under five years of experience, my research on hybrid CNN-LSTM models (95.7% accuracy) and hands-on work with Kubernetes and Terraform illustrate adaptability and depth in ML engineering.\\n\\nI would welcome the opportunity to contribute my skills in cloud-based ML engineering and MLOps to your team. Thank you for your time and consideration.\\n\\nBest regards,\\nRohit Karthick'}]], 'distances': [[0.6405067443847656]]}\n"
     ]
    }
   ],
   "source": [
    "query = \"AI/ML Engineer with AWS and Python\"\n",
    "\n",
    "results = collection.query(\n",
    "    query_texts=[query],\n",
    "    n_results=1\n",
    ")\n",
    "\n",
    "print(\"Top match:\\n\", results)"
   ]
  }
 ],
 "metadata": {
  "kernelspec": {
   "display_name": ".venv",
   "language": "python",
   "name": "python3"
  },
  "language_info": {
   "codemirror_mode": {
    "name": "ipython",
    "version": 3
   },
   "file_extension": ".py",
   "mimetype": "text/x-python",
   "name": "python",
   "nbconvert_exporter": "python",
   "pygments_lexer": "ipython3",
   "version": "3.10.0"
  }
 },
 "nbformat": 4,
 "nbformat_minor": 5
}
