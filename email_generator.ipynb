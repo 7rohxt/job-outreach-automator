{
 "cells": [
  {
   "cell_type": "markdown",
   "id": "ccaed8a4",
   "metadata": {},
   "source": [
    "# Import Libraries"
   ]
  },
  {
   "cell_type": "code",
   "execution_count": 37,
   "id": "403f5ae2",
   "metadata": {},
   "outputs": [
    {
     "data": {
      "text/plain": [
       "True"
      ]
     },
     "execution_count": 37,
     "metadata": {},
     "output_type": "execute_result"
    }
   ],
   "source": [
    "from langchain_groq import ChatGroq\n",
    "from langchain_community.document_loaders import WebBaseLoader\n",
    "from langchain_core.output_parsers import JsonOutputParser\n",
    "from langchain.prompts import PromptTemplate, FewShotPromptTemplate\n",
    "from langchain_chroma import Chroma\n",
    "from langchain_huggingface import HuggingFaceEmbeddings\n",
    "\n",
    "from dotenv import load_dotenv\n",
    "import chromadb\n",
    "import json\n",
    "import os\n",
    "\n",
    "from pprint import pprint\n",
    "\n",
    "from few_shots import few_shots\n",
    "load_dotenv()"
   ]
  },
  {
   "cell_type": "markdown",
   "id": "168fd4ae",
   "metadata": {},
   "source": [
    "_____"
   ]
  },
  {
   "cell_type": "markdown",
   "id": "9add1214",
   "metadata": {},
   "source": [
    "# Setup LLM"
   ]
  },
  {
   "cell_type": "code",
   "execution_count": 38,
   "id": "180c2322",
   "metadata": {},
   "outputs": [],
   "source": [
    "llm = ChatGroq(\n",
    "    model_name=\"llama-3.3-70b-versatile\",\n",
    "    temperature=1,\n",
    "    groq_api_key=os.getenv(\"GROQ_API_KEY\")  \n",
    ")"
   ]
  },
  {
   "cell_type": "markdown",
   "id": "c6e2f650",
   "metadata": {},
   "source": [
    "_________________"
   ]
  },
  {
   "cell_type": "markdown",
   "id": "509e9aba",
   "metadata": {},
   "source": [
    "# Job Description in JSON"
   ]
  },
  {
   "cell_type": "code",
   "execution_count": 39,
   "id": "4aa5024a",
   "metadata": {},
   "outputs": [
    {
     "name": "stdout",
     "output_type": "stream",
     "text": [
      "Senior AI/ML Engineer\n",
      "Skip to main content\n",
      "Open Virtual Assistant\n",
      "Home\n",
      "Career Areas\n",
      "Total Rewards\n",
      "Life@Nike\n",
      "Purpose\n",
      "Language\n",
      "Select a Language\n",
      "Deutsch\n",
      "English\n",
      "Español (España)\n",
      "Español (América Latina)\n",
      "Français\n",
      "Italiano\n",
      "Nederlands\n",
      "Polski\n",
      "Tiếng Việt\n",
      "Türkçe\n",
      "简体中文\n",
      "繁體中文\n",
      "עִברִית\n",
      "한국어\n",
      "日本語\n",
      "Careers\n",
      "Close Menu\n",
      "Careers\n",
      "Chat\n",
      "Home\n",
      "Career Areas\n",
      "Total Rewards\n",
      "Life@Nike\n",
      "Purpose\n",
      "Jordan Careers\n",
      "Converse Careers\n",
      "Language\n",
      "Menu\n",
      "Return to Previous Menu\n",
      "Select a Language\n",
      "Deutsch\n",
      "English\n",
      "Español (España)\n",
      "Español (América Latina)\n",
      "Français\n",
      "Italiano\n",
      "Nederlands\n",
      "Polski\n",
      "Tiếng Việt\n",
      "Türkçe\n",
      "简体中文\n",
      "繁體中文\n",
      "עִברִית\n",
      "한국어\n",
      "日本語\n",
      "Back to Search\n",
      "Senior AI/ML Engineer\n",
      "Categories ID\n",
      "Categories URL\n",
      "Position Type\n",
      "Full Time\n",
      "Date Posted\n",
      "Primary Quest ID\n",
      "Second Quest ID\n",
      "Job Classification\n",
      "Career area\n",
      "Software Engineering\n",
      "Location\n",
      "Remote\n",
      "Job ID\n",
      "R-66196\n",
      "Apply Now\n",
      "Share Job\n",
      "Share Job Posting\n",
      "Facebook\n",
      "Opens In A New Tab\n",
      "LinkedIn\n",
      "Link Opens In New Window\n",
      "Email\n",
      "Close-Medium (Default Size)-icon\n",
      "Close Menu\n",
      "Become a Part of the NIKE, Inc. Team\n",
      "NIKE, Inc. does more than outfit the world’s best athletes. It is a place to explore\n",
      "potential, obliterate boundaries\n",
      "and push out the edges of what can be. The company looks for people who can grow, think,\n",
      "dream and create. Its\n",
      "culture thrives by embracing diversity and rewarding imagination. The brand seeks achievers,\n",
      "leaders and\n",
      "visionaries. At NIKE, Inc. it’s about each person bringing skills and passion to a\n",
      "challenging and constantly\n",
      "evolving game.\n",
      "Open to remote work except in South Dakota, Vermont and West Virginia.The annual base salary for this position ranges from $107,700.00 in our lowest geographic market to $212,600.00 in our highest geographic market. Actual salary will vary based on a candidate's location, qualifications, skills and experience.Information about benefits can be found here.WHO WE ARE LOOKING FORWe seek passionate engineers to join our team. As a Senior AI/ML Engineer, you will influence and develop robust machine learning and generative AI solutions that have a direct impact on the business. You should have experience in Python; a strong background in algorithms and data structures; hands-on AWS experience; as well as experience in database technology (e.g. Postgres, Redis) and data processing technology (e.g. Sagemaker or DataBricks). You should also have a demonstrable history of team leadership and value delivery, and be comfortable working in an agile product model.WHAT YOU WILL WORK ONIf this is you, you’ll be working with the Corporate Functions Artificial Intelligence team at Nike focused on delivering AI capabilities for Nike’s corporate functions. With teammates globally distributed, you’ll be joining a global organization working to solve machine learning problems at scale. You’ll be designing and implementing scalable applications that leverage prediction models and optimization programs to deliver data driven decisions that result in immense business impact. You’ll also contribute to core advanced analytics, machine learning, and generative AI platforms and tools to enable both prediction and optimization model development. You thrive when surrounded by talented colleagues and aim to never stop learning. We are looking for candidates who enjoy a collaborative and academic environment where we develop and share new skills, mentor, and contribute knowledge and software back to the analytics and engineering communities both within Nike and at-large.WHO YOU WILL WORK WITHYou will work closely with business stakeholders, product owners, and your peers within the engineering team to ensure the successful delivery of solutions. Additionally, you will work with other technology teams that lead the up and down-streams solutions to coordinate dependencies. WHAT YOU BRINGTo make it clear, we're not looking for just anyone. We're looking for someone special, someone who had these experiences and clearly demonstrated these skills:Bachelor’s degree in Computer Science, or related field. Will accept any suitable combination of education, experience and training5 to 7 years of professional experience in software engineering Candidates local to Beaverton, Oregon, are highly preferred.3+ years of experience in the field of Machine Learning Engineering or related fieldsExpertise in MLOps and an ability to articulate the role of MLOps in machine learning development life cycle from experimentation to production and measurementProficiency working in a team and mentoring others to write robust, maintainable, and extendable code in Python; containerized in Docker, and automated with CI/CDFamiliarity with frameworks such as Scikit-learn, PyTorch, Tensorflow, Spark, FastAPI or similar platforms and frameworksExpertise with cloud architecture and technologies, especially Amazon Web Services: ECR, SageMaker, Lambda, API GatewayFamiliarity with pipeline orchestration tools such as AirFlow or Databricks Workflows.Expertise with data structures, data modeling and software architectureExperience with complex data sets, ETL pipelines, SQL, and general data engineeringExpertise with Spark, Kubernetes, Docker, Jenkins, Databricks, or Terraform is highly desirableStrong analytical mindset and experience leading others in problem solvingExpertise with agile development and test-driven developmentEffective communication skills with team members, stakeholders, the business, and in codeExperience influencing technical strategy through all aspects of technical design and implementationProficiency providing technical leadership within a team and mentorship to othersWe offer a number of accommodations to complete our interview process including screen readers, sign language interpreters, accessible and single location for in-person interviews, closed captioning, and other reasonable modifications as needed. If you discover, as you navigate our application process, that you need assistance or an accommodation due to a disability, please complete the Candidate Accommodation Request Form.\n",
      "NIKE, Inc. is a growth company that looks for team members to grow with it. Nike offers a\n",
      "generous total rewards\n",
      "package, casual work environment, a diverse and inclusive culture, and an electric\n",
      "atmosphere for professional\n",
      "development. No matter the location, or the role, every Nike employee shares one galvanizing\n",
      "mission: To bring\n",
      "inspiration and innovation to every athlete* in the world.\n",
      "NIKE, Inc. is an equal opportunity employer. Qualified applicants will receive\n",
      "consideration without\n",
      "regard to race, color, religion, sex, national origin, age, sexual orientation, gender\n",
      "identity, gender expression,\n",
      "veteran status, or disability.\n",
      "Apply Now\n",
      "Share Job\n",
      "Share Job Posting\n",
      "Faceboox\n",
      "Opens In A New Tab\n",
      "LinkedIn\n",
      "Link Opens In New Window\n",
      "Email\n",
      "Close-Medium (Default Size)-icon\n",
      "Close Menu\n",
      "What You Can Expect\n",
      "OUR HIRING GAME PLAN\n",
      "01 Apply\n",
      "Our teams are made up of diverse skillsets, knowledge bases, inputs, ideas and backgrounds.\n",
      "We want you to find your fit – review job descriptions, departments and teams to discover\n",
      "the role for you.\n",
      "02 Meet a Recruiter or Take an Assessment\n",
      "If selected for a corporate role, a recruiter will reach out to start your interview process\n",
      "and be your main contact\n",
      "throughout the process. For retail roles, you’ll complete an interactive assessment that\n",
      "includes a chat and quizzes and\n",
      "takes about 10-20 minutes to complete.  No matter the role, we want to learn about you – the\n",
      "whole you – so don’t shy\n",
      "away from how you approach world-class service and what makes you unique.\n",
      "03 Interview\n",
      "Go into this stage confident by doing your research, understanding what we are looking for\n",
      "and being prepared for\n",
      "questions that are set up to learn more about you, and your background.\n",
      "Home\n",
      "About Us\n",
      "Contact\n",
      "Talent Community\n",
      "Terms\n",
      "Nike Applicant Privacy Policy\n",
      "We offer a number of accommodations to complete our interview process including screen readers, sign language interpreters,\n",
      "accessible and single location for in-person interviews, closed captioning, and other reasonable modifications as\n",
      "needed.\n",
      "If you discover, as you navigate our application process, that you need assistance or an accommodation due to a\n",
      "disability, please contact us at +1 503-671-4156 and include your full name, best way to reach you, and the\n",
      "accommodation you request to assist with the application process.\n",
      "For more information, please refer to Equal Employment\n",
      "Opportunity is The Law.\n",
      "©  Nike, Inc. All Rights Reserved\n",
      "Careers\n",
      "Chat\n",
      "Chat with our AI Assistant\n"
     ]
    }
   ],
   "source": [
    "loader = WebBaseLoader(\"https://careers.nike.com/senior-ai-ml-engineer/job/R-66196\")\n",
    "page_data = loader.load().pop().page_content\n",
    "\n",
    "page_data = \"\\n\".join(\n",
    "    line.strip() for line in page_data.splitlines() if line.strip()\n",
    ")\n",
    "\n",
    "print(page_data)"
   ]
  },
  {
   "cell_type": "code",
   "execution_count": 40,
   "id": "80d48f3f",
   "metadata": {},
   "outputs": [],
   "source": [
    "prompt_extract = PromptTemplate(\n",
    "    input_variables=[\"page_data\"],\n",
    "    template=\"\"\"\n",
    "### Scraped Text from Web url\n",
    "{page_data}\n",
    "\n",
    "# Instruction\n",
    "The scraped text is from the career's page of a website.\n",
    "Your job is to extract the job postings and return them in JSON format containing the \n",
    "following keys: `role`, `experience`, `skills in detail`, and `description`. \n",
    "Only return the valid JSON.\n",
    "\n",
    "### VALID JSON (NO PREAMBLE):\n",
    "\"\"\"\n",
    ")"
   ]
  },
  {
   "cell_type": "code",
   "execution_count": 41,
   "id": "81e5c61b",
   "metadata": {},
   "outputs": [
    {
     "name": "stdout",
     "output_type": "stream",
     "text": [
      "{'description': 'Influence and develop robust machine learning and generative '\n",
      "                'AI solutions that have a direct impact on the business. '\n",
      "                'Design and implement scalable applications that leverage '\n",
      "                'prediction models and optimization programs to deliver data '\n",
      "                'driven decisions that result in immense business impact.',\n",
      " 'experience': '5 to 7 years of professional experience in software '\n",
      "               'engineering',\n",
      " 'role': 'Senior AI/ML Engineer',\n",
      " 'skills in detail': {'agile development': 'Test-driven development',\n",
      "                      'cloud platforms': 'Amazon Web Services',\n",
      "                      'containerization': 'Docker',\n",
      "                      'data processing technologies': 'Spark, FastAPI',\n",
      "                      'database technologies': 'Postgres, Redis',\n",
      "                      'machine learning frameworks': 'Scikit-learn, PyTorch, '\n",
      "                                                     'Tensorflow',\n",
      "                      'programming languages': 'Python'}}\n",
      "\n",
      "type: <class 'dict'>)\n"
     ]
    }
   ],
   "source": [
    "json_parser = JsonOutputParser() # eventhough the llm will output in json format it will still be str so we need to pass jasonparser.\n",
    "\n",
    "chain_extract = prompt_extract | llm | json_parser \n",
    "\n",
    "job_description = chain_extract.invoke(input={'page_data':page_data})\n",
    "\n",
    "pprint(job_description)\n",
    "print(f\"\\ntype: {type(job_description)})\")"
   ]
  },
  {
   "cell_type": "markdown",
   "id": "26b7abc8",
   "metadata": {},
   "source": [
    "___________________"
   ]
  },
  {
   "cell_type": "markdown",
   "id": "da0224cc",
   "metadata": {},
   "source": [
    "# Resume in Json"
   ]
  },
  {
   "cell_type": "code",
   "execution_count": 42,
   "id": "a2248330",
   "metadata": {},
   "outputs": [],
   "source": [
    "with open(\"my_resume.txt\", \"r\", encoding=\"utf-8\") as f:\n",
    "    resume_text = f.read()\n",
    "\n",
    "resume_to_json_prompt = PromptTemplate(\n",
    "    input_variables=[\"resume_text\"],\n",
    "    template=\"\"\"\n",
    "You are an assistant that converts resumes into structured JSON.\n",
    "Each section or subheading in the resume should become a key.\n",
    "The content under each heading should become the value.\n",
    "Preserve all important details.\n",
    "\n",
    "Resume Text:\n",
    "{resume_text}\n",
    "\n",
    "Return only valid JSON without any extra text.\n",
    "\"\"\"\n",
    ")"
   ]
  },
  {
   "cell_type": "code",
   "execution_count": 44,
   "id": "674b10a2",
   "metadata": {},
   "outputs": [
    {
     "data": {
      "text/plain": [
       "{'Contact Information': {'Name': 'Rohit Karthick',\n",
       "  'Location': 'Chennai, Tamil Nadu, India',\n",
       "  'Phone': '+91-9566887888',\n",
       "  'Email': 'rkbeo5@gmail.com',\n",
       "  'LinkedIn': 'https://www.linkedin.com/in/rohit-karthick/',\n",
       "  'Github': 'https://github.com/7rohxt'},\n",
       " 'Technical Skills': {'Languages': 'Python, SQL',\n",
       "  'ML/DL': 'TensorFlow, Keras, Scikit-learn, OpenCV, Transformers',\n",
       "  'Web/API': 'FastAPI, Flask, Streamlit',\n",
       "  'DevOps': 'Docker, AWS EC2, Firebase, Git',\n",
       "  'LLM Tools': 'LangChain, LoRA fine-tuning'},\n",
       " 'Professional Experience': [{'Company': 'NeubAItics Pvt. Tech. Ltd.',\n",
       "   'Location': 'Chennai, India',\n",
       "   'Roles': [{'Role': 'Machine Learning Intern',\n",
       "     'Duration': 'Jan 2025 to Jun 2025',\n",
       "     'Responsibilities': ['Assisted in building a real-time person tracking system using DeepSORT and InsightFace across zones and multiple CCTV cameras.',\n",
       "      'Built and dockerized a real-time face attendance system with spoof detection using OpenCV and FastAPI; integrated Firebase for secure image storage and timestamped logs.',\n",
       "      'Improved the Naibu mobile app’s tooth shade detection model by 10% through fine-tuning and data preprocessing.']},\n",
       "    {'Role': 'Machine Learning Engineer',\n",
       "     'Duration': 'Jul 2025 – Present',\n",
       "     'Responsibilities': ['Developing an LLM-based system for summarizing NGO reports, including charts and tables, based on TNEB reports.']}]}],\n",
       " 'Portfolio Projects': [{'Project': 'LoRA Fine-Tuning Project',\n",
       "   'Description': 'Built and deployed a LoRA fine-tuned LLM for domain-specific text understanding.'},\n",
       "  {'Project': 'n8n Automation',\n",
       "   'Description': 'Automated workflows connecting emails to Google Calendar events.'},\n",
       "  {'Project': 'Text-to-SQL Agent',\n",
       "   'Description': 'Converts natural language queries into SQL to interact with databases.'},\n",
       "  {'Project': 'Cold Email Generator',\n",
       "   'Description': 'End-to-end system using LLMs to generate automated job outreach emails.'},\n",
       "  {'Project': 'IPL Insights Bot',\n",
       "   'Description': 'Built an interactive bot using LangChain, Streamlit, and LLaMA-based models to answer user queries from article URLs. Processed articles with UnstructuredURLLoader, created embeddings with sentence-transformers, and used FAISS for efficient retrieval.'},\n",
       "  {'Project': 'Fake Reviews Classifier',\n",
       "   'Description': 'Flask-based web app for fake review detection using CountVectorizer + TF-IDF + classifier. Deployed on AWS EC2 with Gunicorn and Nginx.'},\n",
       "  {'Project': 'Transformers vs NLTK Sentiment Analysis',\n",
       "   'Description': 'Comparative study of sentiment classification performance using traditional NLP pipelines and transformer-based models.'}],\n",
       " 'Academic Research': [{'Publication': 'Heart Sound Anomaly Detection using Conv1D and LSTM',\n",
       "   'Journal': 'SN Computer Science Journal',\n",
       "   'Status': 'under review',\n",
       "   'Date': 'Jan 2025',\n",
       "   'Description': 'Developed a hybrid CNN-LSTM model using TensorFlow and Keras to classify heart sounds into five categories with 95.7% accuracy. Used Librosa for MFCC feature extraction to capture temporal and spectral sound patterns.'}],\n",
       " 'Certifications': [{'Certification': 'Machine Learning Specialization',\n",
       "   'Issuers': 'Deeplearning.ai & Stanford',\n",
       "   'Year': '2025'},\n",
       "  {'Certification': 'IBM Data Science Professional Certificate',\n",
       "   'Year': '2025'},\n",
       "  {'Certification': 'Oracle – Database Foundations', 'Year': '2023'}],\n",
       " 'Education': {'University': 'SRM Institute of Science and Technology',\n",
       "  'Location': 'Kattankulathur, India',\n",
       "  'Degree': 'B.Tech, Computer Science Engineering',\n",
       "  'Duration': '2020–2024',\n",
       "  'GPA': '8.21 / 10',\n",
       "  'Relevant Coursework': 'DBMS, DSA, Data Analytics, AI, Cloud Computing, OS'},\n",
       " 'Standardized Tests': {'GRE': '314 / 340',\n",
       "  'GRE Breakdown': {'Quantitative': '162', 'Verbal': '152'},\n",
       "  'IELTS': '7.5 / 9'}}"
      ]
     },
     "execution_count": 44,
     "metadata": {},
     "output_type": "execute_result"
    }
   ],
   "source": [
    "resume_chain = resume_to_json_prompt | llm | json_parser\n",
    "resume = resume_chain.invoke({\"resume_text\": resume_text})\n",
    "\n",
    "resume"
   ]
  },
  {
   "cell_type": "markdown",
   "id": "91c42c52",
   "metadata": {},
   "source": [
    "_________________"
   ]
  },
  {
   "cell_type": "markdown",
   "id": "e990de40",
   "metadata": {},
   "source": [
    "# Generate Cold Email (Zero-shot)"
   ]
  },
  {
   "cell_type": "code",
   "execution_count": 45,
   "id": "7f014c52",
   "metadata": {},
   "outputs": [
    {
     "name": "stdout",
     "output_type": "stream",
     "text": [
      "Subject: Application for Senior AI/ML Engineer Role\n",
      "\n",
      "Dear Hiring Manager,\n",
      "\n",
      "I am excited to apply for the Senior AI/ML Engineer position at your esteemed organization. With a strong background in machine learning and a passion for developing robust AI solutions, I am confident that I would be an excellent fit for this role.\n",
      "\n",
      "As a seasoned machine learning engineer with experience in building and deploying scalable AI applications, I possess a deep understanding of the skills required to influence and develop machine learning and generative AI solutions that drive business impact. My expertise in Python, TensorFlow, Scikit-learn, and Docker aligns with the job requirements, and my experience with FastAPI, AWS, and containerization will enable me to design and implement scalable applications that leverage prediction models and optimization programs.\n",
      "\n",
      "My professional experience at NeubAItics Pvt. Tech. Ltd. has provided me with hands-on experience in building real-time person tracking systems, face attendance systems, and LLM-based systems for report summarization. Additionally, my portfolio projects showcase my ability to work on a wide range of AI and ML applications, from text understanding and automation to sentiment analysis and fake review detection.\n",
      "\n",
      "I am particularly drawn to this role because of the opportunity to work on developing robust machine learning and generative AI solutions that have a direct impact on the business. I am excited about the prospect of collaborating with a talented team to drive data-driven decisions and deliver immense business impact.\n",
      "\n",
      "I would welcome the opportunity to discuss my application and how my skills and experience align with the requirements of the role. Please feel free to reach out to me at +91-9566887888 or [rkbeo5@gmail.com](mailto:rkbeo5@gmail.com).\n",
      "\n",
      "Thank you for considering my application. I look forward to the opportunity to contribute to your team.\n",
      "\n",
      "Best regards,\n",
      "\n",
      "Rohit Karthick\n",
      "Machine Learning Engineer\n",
      "[https://www.linkedin.com/in/rohit-karthick/](https://www.linkedin.com/in/rohit-karthick/)\n",
      "[https://github.com/7rohxt](https://github.com/7rohxt)\n"
     ]
    }
   ],
   "source": [
    "email_prompt = PromptTemplate(\n",
    "    input_variables=[\"job_description\", \"resume\"],\n",
    "    template=\"\"\"\n",
    "You are the candidate described in the resume.\n",
    "\n",
    "Job Description:\n",
    "{job_description}\n",
    "\n",
    "Candidate Resume:\n",
    "{resume}\n",
    "\n",
    "Instruction:\n",
    "Write a concise, professional cold email to the hiring manager that clearly explains\n",
    "why the candidate is a strong fit for this specific role. \n",
    "\"\"\"\n",
    ")\n",
    "\n",
    "email_chain = email_prompt | llm\n",
    "email_response = email_chain.invoke({\"job_description\": job_description, \"resume\": resume})\n",
    "\n",
    "print(email_response.content)"
   ]
  },
  {
   "cell_type": "markdown",
   "id": "2c49c910",
   "metadata": {},
   "source": [
    "__________________"
   ]
  },
  {
   "cell_type": "markdown",
   "id": "3bc85ddc",
   "metadata": {},
   "source": [
    "# Vector Database"
   ]
  },
  {
   "cell_type": "code",
   "execution_count": 53,
   "id": "1e5b9293",
   "metadata": {},
   "outputs": [],
   "source": [
    "chroma_client = chromadb.PersistentClient(path=\"chroma_db\") \n",
    "\n",
    "embedding_function = HuggingFaceEmbeddings(model_name=\"sentence-transformers/all-MiniLM-L6-v2\")\n",
    "\n",
    "collection = chroma_client.get_or_create_collection(name=\"few_shots\")\n",
    "\n",
    "ids = []\n",
    "documents = []\n",
    "metadatas = []\n",
    "\n",
    "for i, example in enumerate(few_shots):\n",
    "    job_text = json.dumps(example[\"job_description\"], indent=2)\n",
    "    role = example[\"job_description\"].get(\"role\", \"unknown\") \n",
    "    \n",
    "    ids.append(f\"example_{i}\")\n",
    "    documents.append(job_text)\n",
    "    metadatas.append({\n",
    "        \"example_id\": f\"example_{i}\",\n",
    "        \"role\": role,\n",
    "        \"resume\": json.dumps(example[\"resume\"]),\n",
    "        \"email\": example[\"email\"]\n",
    "    })\n",
    "\n",
    "collection.add(\n",
    "    ids=ids,\n",
    "    documents=documents,\n",
    "    metadatas=metadatas\n",
    ")"
   ]
  },
  {
   "cell_type": "markdown",
   "id": "51b6731a",
   "metadata": {},
   "source": [
    "### Retrive one example with most similar Job description"
   ]
  },
  {
   "cell_type": "code",
   "execution_count": 54,
   "id": "e77e1b21",
   "metadata": {},
   "outputs": [
    {
     "name": "stdout",
     "output_type": "stream",
     "text": [
      "Top matches:\n",
      " {'ids': [['example_1', 'example_0']], 'embeddings': None, 'documents': [['{\\n  \"role\": \"AI/ML Engineer\",\\n  \"experience\": \"2-5 years of professional experience in software engineering\",\\n  \"skills in detail\": [\\n    \"Python\",\\n    \"Algorithms and data structures\",\\n    \"AWS experience\",\\n    \"Database technology (e.g. Postgres, Redis)\",\\n    \"Data processing technology (e.g. Sagemaker or DataBricks)\",\\n    \"MLOps\",\\n    \"Cloud architecture and technologies, especially Amazon Web Services: ECR, SageMaker, Lambda, API Gateway\",\\n    \"Frameworks such as Scikit-learn, PyTorch, Tensorflow, Spark, FastAPI\",\\n    \"Pipeline orchestration tools such as AirFlow or Databricks Workflows\",\\n    \"Spark, Kubernetes, Docker, Jenkins, Databricks, or Terraform\"\\n  ],\\n  \"description\": \"Influence and develop robust machine learning and generative AI solutions that have a direct impact on the business, designing and implementing scalable applications that leverage prediction models and optimization programs to deliver data driven decisions.\"\\n}', '{\\n  \"role\": \"Senior Software Developer\",\\n  \"experience\": \"8-10 years of professional experience in software development\",\\n  \"skills in detail\": [\\n    \"Strong expertise in Java, C++, and Python\",\\n    \"Full-stack web development with React, Angular, and Node.js\",\\n    \"Database systems (PostgreSQL, MongoDB, MySQL)\",\\n    \"Cloud platforms: AWS, Azure, GCP\",\\n    \"Microservices architecture and RESTful API design\",\\n    \"CI/CD pipelines with Jenkins, Docker, Kubernetes\",\\n    \"Agile/Scrum development methodologies\",\\n    \"System design and scalability best practices\"\\n  ],\\n  \"description\": \"We are seeking an experienced Senior Software Developer to lead the design and development of scalable, high-performance software applications. The ideal candidate will have extensive experience across backend, frontend, and cloud platforms, with a strong focus on building resilient systems.\"\\n}']], 'uris': None, 'included': ['metadatas', 'documents', 'distances'], 'data': None, 'metadatas': [[{'email': 'Subject: Application for AI/ML Engineer Role – Skilled in Python, AWS, and MLOps\\n\\nDear Hiring Manager,\\n\\nI am excited to apply for the AI/ML Engineer position. My expertise in Python, algorithms, and cloud deployment aligns well with your requirements. At NeubAItics, I built and dockerized a real-time face attendance system using FastAPI, OpenCV, and Firebase, and developed a multi-camera DeepSORT-based tracking system, showcasing strong skills in scalable ML applications.\\n\\nI have deployed solutions on AWS EC2, integrated Docker, and applied MLOps practices for production-ready pipelines. Projects such as my LoRA fine-tuned LLM deployment and Text-to-SQL agent further demonstrate experience with TensorFlow, Keras, Scikit-learn, and LangChain.\\n\\nAlthough under five years of experience, my research on hybrid CNN-LSTM models (95.7% accuracy) and hands-on work with Kubernetes and Terraform illustrate adaptability and depth in ML engineering.\\n\\nI would welcome the opportunity to contribute my skills in cloud-based ML engineering and MLOps to your team. Thank you for your time and consideration.\\n\\nBest regards,\\nRohit Karthick', 'resume': '{\"Contact Information\": {\"Name\": \"Rohit Karthick\", \"Location\": \"Chennai, Tamil Nadu, India\", \"Phone\": \"+91-9566887888\", \"Email\": \"rkbeo5@gmail.com\", \"LinkedIn\": \"https://www.linkedin.com/in/rohit-karthick/\", \"Github\": \"https://github.com/7rohxt\"}, \"Technical Skills\": {\"Languages\": [\"Python\", \"SQL\"], \"ML/DL\": [\"TensorFlow\", \"Keras\", \"Scikit-learn\", \"OpenCV\", \"Transformers\"], \"Web/API\": [\"FastAPI\", \"Flask\", \"Streamlit\"], \"DevOps\": [\"Docker\", \"AWS EC2\", \"Firebase\", \"Git\"], \"LLM Tools\": [\"LangChain\", \"LoRA fine-tuning\"]}, \"Professional Experience\": [{\"Company\": \"NeubAItics Pvt. Tech. Ltd.\", \"Location\": \"Chennai, India\", \"Roles\": [{\"Position\": \"Machine Learning Intern\", \"Duration\": \"Jan 2025 to Jun 2025\", \"Achievements\": [\"Assisted in building a real-time person tracking system using DeepSORT and InsightFace across zones and multiple CCTV cameras.\", \"Built and dockerized a real-time face attendance system with spoof detection using OpenCV and FastAPI; integrated Firebase for secure image storage and timestamped logs.\", \"Improved the Naibu mobile app\\\\u2019s tooth shade detection model by 10% through fine-tuning and data preprocessing.\"]}, {\"Position\": \"Machine Learning Engineer\", \"Duration\": \"Jul 2025 \\\\u2013 Present\", \"Achievements\": [\"Developing an LLM-based system for summarizing NGO reports, including charts and tables, based on TNEB reports.\"]}]}], \"Portfolio Projects\": [{\"Name\": \"LoRA Fine-Tuning Project\", \"Description\": \"Built and deployed a LoRA fine-tuned LLM for domain-specific text understanding.\"}, {\"Name\": \"n8n Automation\", \"Description\": \"Automated workflows connecting emails to Google Calendar events.\"}, {\"Name\": \"Text-to-SQL Agent\", \"Description\": \"Converts natural language queries into SQL to interact with databases.\"}, {\"Name\": \"Cold Email Generator\", \"Description\": \"End-to-end system using LLMs to generate automated job outreach emails.\"}, {\"Name\": \"IPL Insights Bot\", \"Description\": \"Built an interactive bot using LangChain, Streamlit, and LLaMA-based models to answer user queries from article URLs. Processed articles with UnstructuredURLLoader, created embeddings with sentence-transformers, and used FAISS for efficient retrieval.\"}, {\"Name\": \"Fake Reviews Classifier\", \"Description\": \"Flask-based web app for fake review detection using CountVectorizer + TF-IDF + classifier. Deployed on AWS EC2 with Gunicorn and Nginx.\"}, {\"Name\": \"Transformers vs NLTK Sentiment Analysis\", \"Description\": \"Comparative study of sentiment classification performance using traditional NLP pipelines and transformer-based models.\"}], \"Academic Research\": [{\"Name\": \"Heart Sound Anomaly Detection using Conv1D and LSTM\", \"Journal\": \"SN Computer Science Journal\", \"Status\": \"under review\", \"Date\": \"Jan 2025\", \"Description\": \"Developed a hybrid CNN-LSTM model using TensorFlow and Keras to classify heart sounds into five categories with 95.7% accuracy. Used Librosa for MFCC feature extraction to capture temporal and spectral sound patterns.\"}], \"Certifications\": [{\"Name\": \"Machine Learning Specialization\", \"Issuers\": [\"Deeplearning.ai\", \"Stanford\"], \"Date\": \"2025\"}, {\"Name\": \"IBM Data Science Professional Certificate\", \"Date\": \"2025\"}, {\"Name\": \"Oracle \\\\u2013 Database Foundations\", \"Date\": \"2023\"}], \"Education\": {\"Institution\": \"SRM Institute of Science and Technology\", \"Location\": \"Kattankulathur, India\", \"Degree\": \"B.Tech, Computer Science Engineering\", \"Duration\": \"2020\\\\u20132024\", \"GPA\": \"8.21 / 10\", \"Relevant Coursework\": [\"DBMS\", \"DSA\", \"Data Analytics\", \"AI\", \"Cloud Computing\", \"OS\"]}, \"Standardized Tests\": {\"GRE\": {\"Score\": \"314 / 340\", \"Breakdown\": {\"Quantitative\": \"162\", \"Verbal\": \"152\"}}, \"IELTS\": {\"Score\": \"7.5 / 9\"}}}'}, {'email': 'Dear Hiring Manager,\\n\\nI am excited to apply for the Senior Software Developer role at your company. With 9 years of experience in building scalable full-stack applications, I bring deep expertise in Java, Python, React, and cloud platforms (AWS/Azure). \\n\\nIn my recent project, I led the development of a microservices-based e-commerce platform that now serves over 1M monthly users, leveraging AWS, Spring Boot, and React. Additionally, I built a cloud-hosted healthcare system on Azure using Kubernetes and Python, ensuring security and high availability. \\n\\nI would love the opportunity to contribute my experience in microservices, system design, and cloud architecture to your team’s mission of delivering robust, high-performance solutions. \\n\\nBest regards,  \\nRohit Sharma\\n', 'resume': '{\"Contact Information\": {\"Name\": \"Rohit Sharma\", \"Phone\": \"+91-9876543210\", \"Email\": \"rohit.sharma.dev@example.com\", \"linkedin\": \"https://www.linkedin.com/in/rohit-sharma-dev\"}, \"experience_summary\": \"9 years of experience in full-stack software development, specializing in Java, Python, and scalable cloud-based applications.\", \"skills\": [\"Java, Python, C++\", \"React, Angular, Node.js\", \"PostgreSQL, MongoDB\", \"AWS (EC2, Lambda, S3), Azure\", \"Docker, Kubernetes, Jenkins\", \"Microservices architecture\", \"Agile/Scrum methodologies\"], \"projects\": [{\"title\": \"E-commerce Microservices Platform\", \"description\": \"Led a team to build a scalable microservices-based e-commerce platform using Java Spring Boot, React, and AWS, supporting 1M+ monthly active users.\", \"technologies\": [\"Java\", \"Spring Boot\", \"React\", \"AWS\", \"PostgreSQL\"]}, {\"title\": \"Cloud-based Healthcare System\", \"description\": \"Designed and implemented a secure healthcare management system hosted on Azure with containerized microservices and real-time data pipelines.\", \"technologies\": [\"Python\", \"Azure\", \"Kubernetes\", \"MongoDB\"]}]}'}]], 'distances': [[0.6405067443847656, 1.2989321947097778]]}\n"
     ]
    }
   ],
   "source": [
    "query = \"AI/ML Engineer with AWS and Python\"\n",
    "\n",
    "results = collection.query(\n",
    "    query_texts=[query],\n",
    "    n_results=2\n",
    ")\n",
    "\n",
    "print(\"Top matches:\\n\", results)"
   ]
  },
  {
   "cell_type": "markdown",
   "id": "7855a07e",
   "metadata": {},
   "source": [
    "### Unpack retrived example"
   ]
  },
  {
   "cell_type": "code",
   "execution_count": 55,
   "id": "f73ed53e",
   "metadata": {},
   "outputs": [],
   "source": [
    "retrieved_job_description = results[\"documents\"][0][0]\n",
    "retrieved_meta = results[\"metadatas\"][0][0]\n",
    "\n",
    "retrieved_resume = retrieved_meta[\"resume\"]\n",
    "retrieved_email  = retrieved_meta[\"email\"]"
   ]
  },
  {
   "cell_type": "markdown",
   "id": "ef145865",
   "metadata": {},
   "source": [
    "_____"
   ]
  },
  {
   "cell_type": "markdown",
   "id": "4db6cdd2",
   "metadata": {},
   "source": [
    "# Build Few Shot Prompt"
   ]
  },
  {
   "cell_type": "markdown",
   "id": "d4296497",
   "metadata": {},
   "source": [
    "_______________"
   ]
  },
  {
   "cell_type": "code",
   "execution_count": 48,
   "id": "e3c93274",
   "metadata": {},
   "outputs": [
    {
     "ename": "KeyError",
     "evalue": "'\\n  \"role\"'",
     "output_type": "error",
     "traceback": [
      "\u001b[1;31m---------------------------------------------------------------------------\u001b[0m",
      "\u001b[1;31mKeyError\u001b[0m                                  Traceback (most recent call last)",
      "Cell \u001b[1;32mIn[48], line 47\u001b[0m\n\u001b[0;32m      9\u001b[0m example_prompt \u001b[38;5;241m=\u001b[39m PromptTemplate(\n\u001b[0;32m     10\u001b[0m     input_variables\u001b[38;5;241m=\u001b[39m[\u001b[38;5;124m\"\u001b[39m\u001b[38;5;124mretrieved_job_description\u001b[39m\u001b[38;5;124m\"\u001b[39m, \u001b[38;5;124m\"\u001b[39m\u001b[38;5;124mretrieved_resume\u001b[39m\u001b[38;5;124m\"\u001b[39m, \u001b[38;5;124m\"\u001b[39m\u001b[38;5;124mretrieved_email\u001b[39m\u001b[38;5;124m\"\u001b[39m],\n\u001b[0;32m     11\u001b[0m     template\u001b[38;5;241m=\u001b[39m\u001b[38;5;124m\"\"\"\u001b[39m\n\u001b[1;32m   (...)\u001b[0m\n\u001b[0;32m     21\u001b[0m \u001b[38;5;124m\"\"\"\u001b[39m\n\u001b[0;32m     22\u001b[0m )\n\u001b[0;32m     24\u001b[0m few_shot_prompt \u001b[38;5;241m=\u001b[39m FewShotPromptTemplate(\n\u001b[0;32m     25\u001b[0m     examples\u001b[38;5;241m=\u001b[39mretrieved_examples,\n\u001b[0;32m     26\u001b[0m     example_prompt\u001b[38;5;241m=\u001b[39mexample_prompt,\n\u001b[1;32m   (...)\u001b[0m\n\u001b[0;32m     44\u001b[0m     input_variables\u001b[38;5;241m=\u001b[39m[\u001b[38;5;124m\"\u001b[39m\u001b[38;5;124mjob_description\u001b[39m\u001b[38;5;124m\"\u001b[39m, \u001b[38;5;124m\"\u001b[39m\u001b[38;5;124mresume\u001b[39m\u001b[38;5;124m\"\u001b[39m]\n\u001b[0;32m     45\u001b[0m )\n\u001b[1;32m---> 47\u001b[0m final_prompt \u001b[38;5;241m=\u001b[39m \u001b[43mfew_shot_prompt\u001b[49m\u001b[38;5;241;43m.\u001b[39;49m\u001b[43mformat\u001b[49m\u001b[43m(\u001b[49m\n\u001b[0;32m     48\u001b[0m \u001b[43m    \u001b[49m\u001b[43mjob_description\u001b[49m\u001b[38;5;241;43m=\u001b[39;49m\u001b[43mjob_description\u001b[49m\u001b[43m,\u001b[49m\n\u001b[0;32m     49\u001b[0m \u001b[43m    \u001b[49m\u001b[43mresume\u001b[49m\u001b[38;5;241;43m=\u001b[39;49m\u001b[43mresume\u001b[49m\n\u001b[0;32m     50\u001b[0m \u001b[43m)\u001b[49m\n\u001b[0;32m     52\u001b[0m email_chain \u001b[38;5;241m=\u001b[39m few_shot_prompt \u001b[38;5;241m|\u001b[39m llm\n\u001b[0;32m     53\u001b[0m email_response \u001b[38;5;241m=\u001b[39m email_chain\u001b[38;5;241m.\u001b[39minvoke({\n\u001b[0;32m     54\u001b[0m     \u001b[38;5;124m\"\u001b[39m\u001b[38;5;124mjob_description\u001b[39m\u001b[38;5;124m\"\u001b[39m: job_description,\n\u001b[0;32m     55\u001b[0m     \u001b[38;5;124m\"\u001b[39m\u001b[38;5;124mresume\u001b[39m\u001b[38;5;124m\"\u001b[39m: resume\n\u001b[0;32m     56\u001b[0m })\n",
      "File \u001b[1;32md:\\code\\job-outreach-automator\\.venv\\lib\\site-packages\\langchain_core\\prompts\\few_shot.py:197\u001b[0m, in \u001b[0;36mFewShotPromptTemplate.format\u001b[1;34m(self, **kwargs)\u001b[0m\n\u001b[0;32m    194\u001b[0m template \u001b[38;5;241m=\u001b[39m \u001b[38;5;28mself\u001b[39m\u001b[38;5;241m.\u001b[39mexample_separator\u001b[38;5;241m.\u001b[39mjoin([piece \u001b[38;5;28;01mfor\u001b[39;00m piece \u001b[38;5;129;01min\u001b[39;00m pieces \u001b[38;5;28;01mif\u001b[39;00m piece])\n\u001b[0;32m    196\u001b[0m \u001b[38;5;66;03m# Format the template with the input variables.\u001b[39;00m\n\u001b[1;32m--> 197\u001b[0m \u001b[38;5;28;01mreturn\u001b[39;00m DEFAULT_FORMATTER_MAPPING[\u001b[38;5;28mself\u001b[39m\u001b[38;5;241m.\u001b[39mtemplate_format](template, \u001b[38;5;241m*\u001b[39m\u001b[38;5;241m*\u001b[39mkwargs)\n",
      "File \u001b[1;32m~\\AppData\\Local\\Programs\\Python\\Python310\\lib\\string.py:161\u001b[0m, in \u001b[0;36mFormatter.format\u001b[1;34m(self, format_string, *args, **kwargs)\u001b[0m\n\u001b[0;32m    160\u001b[0m \u001b[38;5;28;01mdef\u001b[39;00m\u001b[38;5;250m \u001b[39m\u001b[38;5;21mformat\u001b[39m(\u001b[38;5;28mself\u001b[39m, format_string, \u001b[38;5;241m/\u001b[39m, \u001b[38;5;241m*\u001b[39margs, \u001b[38;5;241m*\u001b[39m\u001b[38;5;241m*\u001b[39mkwargs):\n\u001b[1;32m--> 161\u001b[0m     \u001b[38;5;28;01mreturn\u001b[39;00m \u001b[38;5;28;43mself\u001b[39;49m\u001b[38;5;241;43m.\u001b[39;49m\u001b[43mvformat\u001b[49m\u001b[43m(\u001b[49m\u001b[43mformat_string\u001b[49m\u001b[43m,\u001b[49m\u001b[43m \u001b[49m\u001b[43margs\u001b[49m\u001b[43m,\u001b[49m\u001b[43m \u001b[49m\u001b[43mkwargs\u001b[49m\u001b[43m)\u001b[49m\n",
      "File \u001b[1;32md:\\code\\job-outreach-automator\\.venv\\lib\\site-packages\\langchain_core\\utils\\formatting.py:33\u001b[0m, in \u001b[0;36mStrictFormatter.vformat\u001b[1;34m(self, format_string, args, kwargs)\u001b[0m\n\u001b[0;32m     28\u001b[0m     msg \u001b[38;5;241m=\u001b[39m (\n\u001b[0;32m     29\u001b[0m         \u001b[38;5;124m\"\u001b[39m\u001b[38;5;124mNo arguments should be provided, \u001b[39m\u001b[38;5;124m\"\u001b[39m\n\u001b[0;32m     30\u001b[0m         \u001b[38;5;124m\"\u001b[39m\u001b[38;5;124meverything should be passed as keyword arguments.\u001b[39m\u001b[38;5;124m\"\u001b[39m\n\u001b[0;32m     31\u001b[0m     )\n\u001b[0;32m     32\u001b[0m     \u001b[38;5;28;01mraise\u001b[39;00m \u001b[38;5;167;01mValueError\u001b[39;00m(msg)\n\u001b[1;32m---> 33\u001b[0m \u001b[38;5;28;01mreturn\u001b[39;00m \u001b[38;5;28;43msuper\u001b[39;49m\u001b[43m(\u001b[49m\u001b[43m)\u001b[49m\u001b[38;5;241;43m.\u001b[39;49m\u001b[43mvformat\u001b[49m\u001b[43m(\u001b[49m\u001b[43mformat_string\u001b[49m\u001b[43m,\u001b[49m\u001b[43m \u001b[49m\u001b[43margs\u001b[49m\u001b[43m,\u001b[49m\u001b[43m \u001b[49m\u001b[43mkwargs\u001b[49m\u001b[43m)\u001b[49m\n",
      "File \u001b[1;32m~\\AppData\\Local\\Programs\\Python\\Python310\\lib\\string.py:165\u001b[0m, in \u001b[0;36mFormatter.vformat\u001b[1;34m(self, format_string, args, kwargs)\u001b[0m\n\u001b[0;32m    163\u001b[0m \u001b[38;5;28;01mdef\u001b[39;00m\u001b[38;5;250m \u001b[39m\u001b[38;5;21mvformat\u001b[39m(\u001b[38;5;28mself\u001b[39m, format_string, args, kwargs):\n\u001b[0;32m    164\u001b[0m     used_args \u001b[38;5;241m=\u001b[39m \u001b[38;5;28mset\u001b[39m()\n\u001b[1;32m--> 165\u001b[0m     result, _ \u001b[38;5;241m=\u001b[39m \u001b[38;5;28;43mself\u001b[39;49m\u001b[38;5;241;43m.\u001b[39;49m\u001b[43m_vformat\u001b[49m\u001b[43m(\u001b[49m\u001b[43mformat_string\u001b[49m\u001b[43m,\u001b[49m\u001b[43m \u001b[49m\u001b[43margs\u001b[49m\u001b[43m,\u001b[49m\u001b[43m \u001b[49m\u001b[43mkwargs\u001b[49m\u001b[43m,\u001b[49m\u001b[43m \u001b[49m\u001b[43mused_args\u001b[49m\u001b[43m,\u001b[49m\u001b[43m \u001b[49m\u001b[38;5;241;43m2\u001b[39;49m\u001b[43m)\u001b[49m\n\u001b[0;32m    166\u001b[0m     \u001b[38;5;28mself\u001b[39m\u001b[38;5;241m.\u001b[39mcheck_unused_args(used_args, args, kwargs)\n\u001b[0;32m    167\u001b[0m     \u001b[38;5;28;01mreturn\u001b[39;00m result\n",
      "File \u001b[1;32m~\\AppData\\Local\\Programs\\Python\\Python310\\lib\\string.py:205\u001b[0m, in \u001b[0;36mFormatter._vformat\u001b[1;34m(self, format_string, args, kwargs, used_args, recursion_depth, auto_arg_index)\u001b[0m\n\u001b[0;32m    201\u001b[0m     auto_arg_index \u001b[38;5;241m=\u001b[39m \u001b[38;5;28;01mFalse\u001b[39;00m\n\u001b[0;32m    203\u001b[0m \u001b[38;5;66;03m# given the field_name, find the object it references\u001b[39;00m\n\u001b[0;32m    204\u001b[0m \u001b[38;5;66;03m#  and the argument it came from\u001b[39;00m\n\u001b[1;32m--> 205\u001b[0m obj, arg_used \u001b[38;5;241m=\u001b[39m \u001b[38;5;28;43mself\u001b[39;49m\u001b[38;5;241;43m.\u001b[39;49m\u001b[43mget_field\u001b[49m\u001b[43m(\u001b[49m\u001b[43mfield_name\u001b[49m\u001b[43m,\u001b[49m\u001b[43m \u001b[49m\u001b[43margs\u001b[49m\u001b[43m,\u001b[49m\u001b[43m \u001b[49m\u001b[43mkwargs\u001b[49m\u001b[43m)\u001b[49m\n\u001b[0;32m    206\u001b[0m used_args\u001b[38;5;241m.\u001b[39madd(arg_used)\n\u001b[0;32m    208\u001b[0m \u001b[38;5;66;03m# do any conversion on the resulting object\u001b[39;00m\n",
      "File \u001b[1;32m~\\AppData\\Local\\Programs\\Python\\Python310\\lib\\string.py:270\u001b[0m, in \u001b[0;36mFormatter.get_field\u001b[1;34m(self, field_name, args, kwargs)\u001b[0m\n\u001b[0;32m    267\u001b[0m \u001b[38;5;28;01mdef\u001b[39;00m\u001b[38;5;250m \u001b[39m\u001b[38;5;21mget_field\u001b[39m(\u001b[38;5;28mself\u001b[39m, field_name, args, kwargs):\n\u001b[0;32m    268\u001b[0m     first, rest \u001b[38;5;241m=\u001b[39m _string\u001b[38;5;241m.\u001b[39mformatter_field_name_split(field_name)\n\u001b[1;32m--> 270\u001b[0m     obj \u001b[38;5;241m=\u001b[39m \u001b[38;5;28;43mself\u001b[39;49m\u001b[38;5;241;43m.\u001b[39;49m\u001b[43mget_value\u001b[49m\u001b[43m(\u001b[49m\u001b[43mfirst\u001b[49m\u001b[43m,\u001b[49m\u001b[43m \u001b[49m\u001b[43margs\u001b[49m\u001b[43m,\u001b[49m\u001b[43m \u001b[49m\u001b[43mkwargs\u001b[49m\u001b[43m)\u001b[49m\n\u001b[0;32m    272\u001b[0m     \u001b[38;5;66;03m# loop through the rest of the field_name, doing\u001b[39;00m\n\u001b[0;32m    273\u001b[0m     \u001b[38;5;66;03m#  getattr or getitem as needed\u001b[39;00m\n\u001b[0;32m    274\u001b[0m     \u001b[38;5;28;01mfor\u001b[39;00m is_attr, i \u001b[38;5;129;01min\u001b[39;00m rest:\n",
      "File \u001b[1;32m~\\AppData\\Local\\Programs\\Python\\Python310\\lib\\string.py:227\u001b[0m, in \u001b[0;36mFormatter.get_value\u001b[1;34m(self, key, args, kwargs)\u001b[0m\n\u001b[0;32m    225\u001b[0m     \u001b[38;5;28;01mreturn\u001b[39;00m args[key]\n\u001b[0;32m    226\u001b[0m \u001b[38;5;28;01melse\u001b[39;00m:\n\u001b[1;32m--> 227\u001b[0m     \u001b[38;5;28;01mreturn\u001b[39;00m \u001b[43mkwargs\u001b[49m\u001b[43m[\u001b[49m\u001b[43mkey\u001b[49m\u001b[43m]\u001b[49m\n",
      "\u001b[1;31mKeyError\u001b[0m: '\\n  \"role\"'"
     ]
    }
   ],
   "source": [
    "retrieved_examples = []\n",
    "for doc, meta in zip(results[\"documents\"][0], results[\"metadatas\"][0]):\n",
    "    retrieved_examples.append({\n",
    "        \"retrieved_job_description\": doc,\n",
    "        \"retrieved_resume\": meta[\"resume\"],\n",
    "        \"retrieved_email\": meta[\"email\"]\n",
    "    })\n",
    "\n",
    "example_prompt = PromptTemplate(\n",
    "    input_variables=[\"retrieved_job_description\", \"retrieved_resume\", \"retrieved_email\"],\n",
    "    template=\"\"\"\n",
    "Example Job Description:\n",
    "{retrieved_job_description}\n",
    "\n",
    "Example Candidate Resume:\n",
    "{retrieved_resume}\n",
    "\n",
    "Example Email:\n",
    "{retrieved_email}\n",
    "---\n",
    "\"\"\"\n",
    ")\n",
    "\n",
    "few_shot_prompt = FewShotPromptTemplate(\n",
    "    examples=retrieved_examples,\n",
    "    example_prompt=example_prompt,\n",
    "    suffix=\"\"\"\n",
    "Now, write a new email for the following job:\n",
    "\n",
    "Job Description:\n",
    "{job_description}\n",
    "\n",
    "Candidate Resume:\n",
    "{resume}\n",
    "\n",
    "Instructions:\n",
    "- Highlight how the candidate's skills, frameworks, and technologies match the job requirements exactly.\n",
    "- Connect relevant projects or experience to each key requirement from the job description.\n",
    "- If the candidate does not meet the required years of experience, emphasize related projects and achievements.\n",
    "- Keep it short, persuasive, and directly aligned with the job posting.\n",
    "- Include contact details below the name (email, phone, LinkedIn, GitHub if available).\n",
    "- Avoid generic statements; make it specific to the job description.\n",
    "\"\"\",\n",
    "    input_variables=[\"job_description\", \"resume\"]\n",
    ")\n",
    "\n",
    "final_prompt = few_shot_prompt.format(\n",
    "    job_description=job_description,\n",
    "    resume=resume\n",
    ")\n",
    "\n",
    "email_chain = few_shot_prompt | llm\n",
    "email_response = email_chain.invoke({\n",
    "    \"job_description\": job_description,\n",
    "    \"resume\": resume\n",
    "})\n",
    "print(email_response.content)"
   ]
  },
  {
   "cell_type": "markdown",
   "id": "290725f5",
   "metadata": {},
   "source": [
    "# Generate Cold Email with Few Shot Learning"
   ]
  },
  {
   "cell_type": "code",
   "execution_count": null,
   "id": "2f023337",
   "metadata": {},
   "outputs": [],
   "source": []
  },
  {
   "cell_type": "code",
   "execution_count": 56,
   "id": "8f7d958a",
   "metadata": {},
   "outputs": [],
   "source": [
    "from langchain.prompts import PromptTemplate\n",
    "\n",
    "few_shot_prompt = PromptTemplate(\n",
    "    input_variables=[\n",
    "        \"retrieved_job_description\",\n",
    "        \"retrieved_resume\",\n",
    "        \"retrieved_email\",\n",
    "        \"job_description\",\n",
    "        \"resume\"\n",
    "    ],\n",
    "    template=\"\"\"\n",
    "You are the candidate described in the resume.\n",
    "\n",
    "### Reference Example\n",
    "Job Description:\n",
    "{retrieved_job_description}\n",
    "\n",
    "Candidate Resume:\n",
    "{retrieved_resume}\n",
    "\n",
    "Cold Email:\n",
    "{retrieved_email}\n",
    "\n",
    "---\n",
    "\n",
    "### Task\n",
    "Now, write a new cold email for the following role:\n",
    "\n",
    "Job Description:\n",
    "{job_description}\n",
    "\n",
    "Candidate Resume:\n",
    "{resume}\n",
    "\n",
    "### Guidelines\n",
    "- Emphasize how the candidate’s skills, frameworks, and technologies align with the job requirements.\n",
    "- Connect relevant projects/experience to each key requirement in the job description.\n",
    "- If required years of experience are missing, highlight equivalent projects and achievements instead.\n",
    "- Keep the email concise, persuasive, and tailored to this job (avoid generic phrasing).\n",
    "- End with candidate contact details (email, phone, LinkedIn, GitHub if available).\n",
    "\"\"\"\n",
    ")\n"
   ]
  },
  {
   "cell_type": "code",
   "execution_count": null,
   "id": "4088a9eb",
   "metadata": {},
   "outputs": [
    {
     "name": "stdout",
     "output_type": "stream",
     "text": [
      "Subject: Application for Senior AI/ML Engineer Role – Leveraging Python, AWS, and ML Expertise\n",
      "\n",
      "Dear Hiring Manager,\n",
      "\n",
      "I am excited to apply for the Senior AI/ML Engineer position, where I can utilize my expertise in Python, machine learning, and cloud computing to drive business growth. With a strong foundation in programming languages, cloud platforms, and machine learning frameworks, I am confident in my ability to develop robust AI solutions.\n",
      "\n",
      "My experience with Python, Scikit-learn, PyTorch, and Tensorflow aligns well with your requirements. I have successfully deployed projects using these frameworks, including a LoRA fine-tuned LLM for domain-specific text understanding and a Text-to-SQL agent that converts natural language queries into SQL. Additionally, my work with Docker and AWS EC2 demonstrates my proficiency in containerization and cloud deployment.\n",
      "\n",
      "As a skilled engineer, I have developed scalable applications that leverage prediction models and optimization programs. My project, \"Fake Reviews Classifier,\" showcases my ability to design and implement scalable solutions using Flask, CountVectorizer, TF-IDF, and classifier. I have also worked with Spark and FastAPI, which are essential for data processing and building efficient data pipelines.\n",
      "\n",
      "Although I have less than 5-7 years of professional experience, my research and projects demonstrate equivalent expertise. My academic research on heart sound anomaly detection using Conv1D and LSTM, published in the SN Computer Science Journal, showcases my ability to work on complex projects. I have also developed multiple projects, including an LLM-based system for summarizing NGO reports, an interactive bot using LangChain and LLaMA-based models, and a comparative study of sentiment classification performance using traditional NLP pipelines and transformer-based models.\n",
      "\n",
      "I am eager to bring my skills and experience to your team and contribute to the development of robust machine learning and generative AI solutions. Please feel free to contact me to discuss my application.\n",
      "\n",
      "Best regards,\n",
      "Rohit Karthick\n",
      "Email: [rkbeo5@gmail.com](mailto:rkbeo5@gmail.com)\n",
      "Phone: +91-9566887888\n",
      "LinkedIn: https://www.linkedin.com/in/rohit-karthick/\n",
      "GitHub: https://github.com/7rohxt\n"
     ]
    }
   ],
   "source": [
    "email_chain = few_shot_prompt | llm\n",
    "email_response = email_chain.invoke({\n",
    "    \"retrieved_job_description\": retrieved_job_description,\n",
    "    \"retrieved_resume\": retrieved_resume,\n",
    "    \"retrieved_email\": retrieved_email,\n",
    "    \"job_description\": job_description,\n",
    "    \"resume\": resume\n",
    "})\n",
    "\n",
    "print(email_response.content)"
   ]
  }
 ],
 "metadata": {
  "kernelspec": {
   "display_name": ".venv",
   "language": "python",
   "name": "python3"
  },
  "language_info": {
   "codemirror_mode": {
    "name": "ipython",
    "version": 3
   },
   "file_extension": ".py",
   "mimetype": "text/x-python",
   "name": "python",
   "nbconvert_exporter": "python",
   "pygments_lexer": "ipython3",
   "version": "3.10.0"
  }
 },
 "nbformat": 4,
 "nbformat_minor": 5
}
